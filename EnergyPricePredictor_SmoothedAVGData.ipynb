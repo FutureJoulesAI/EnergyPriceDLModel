{
 "cells": [
  {
   "cell_type": "markdown",
   "metadata": {},
   "source": [
    "Initialise, set the path and import librarys"
   ]
  },
  {
   "cell_type": "code",
   "execution_count": 1,
   "metadata": {},
   "outputs": [],
   "source": [
    "%matplotlib inline\n",
    "%reload_ext autoreload\n",
    "%autoreload 2"
   ]
  },
  {
   "cell_type": "code",
   "execution_count": 2,
   "metadata": {},
   "outputs": [
    {
     "name": "stdout",
     "output_type": "stream",
     "text": [
      "/home/ubuntu/fastai/courses/data/EnergyPriceDLModel\n"
     ]
    }
   ],
   "source": [
    "import os\n",
    "currPth = os.getcwd()\n",
    "print(currPth)\n",
    "import sys\n",
    "sys.path.append(\"//home/ubuntu/fastai/\") # go to parent dir"
   ]
  },
  {
   "cell_type": "markdown",
   "metadata": {},
   "source": [
    "    (For some reason I have to tell FastAI where the parent dir is)"
   ]
  },
  {
   "cell_type": "markdown",
   "metadata": {},
   "source": [
    "Import everything needed"
   ]
  },
  {
   "cell_type": "code",
   "execution_count": 3,
   "metadata": {},
   "outputs": [],
   "source": [
    "from fastai.imports import *\n",
    "from fastai.torch_imports import *\n",
    "from fastai.dataset import *\n",
    "from fastai.dataset import *\n",
    "from fastai.plots import *\n",
    "\n",
    "from fastai.structured import *\n",
    "from fastai.column_data import *\n",
    "np.set_printoptions(threshold=50, edgeitems=20)\n",
    "\n",
    "from sklearn_pandas import DataFrameMapper\n",
    "from sklearn.preprocessing import LabelEncoder, Imputer, StandardScaler\n",
    "\n",
    "from IPython.display import HTML"
   ]
  },
  {
   "cell_type": "code",
   "execution_count": 4,
   "metadata": {},
   "outputs": [],
   "source": [
    "PATH=\"//home/ubuntu/fastai/courses/data/EnergyPriceDLModel/\""
   ]
  },
  {
   "cell_type": "markdown",
   "metadata": {},
   "source": [
    "Set the Training & Testing data sets, import them from csv, parse the Date Column, have a look at it"
   ]
  },
  {
   "cell_type": "code",
   "execution_count": 5,
   "metadata": {},
   "outputs": [
    {
     "data": {
      "text/html": [
       "<div>\n",
       "<style scoped>\n",
       "    .dataframe tbody tr th:only-of-type {\n",
       "        vertical-align: middle;\n",
       "    }\n",
       "\n",
       "    .dataframe tbody tr th {\n",
       "        vertical-align: top;\n",
       "    }\n",
       "\n",
       "    .dataframe thead th {\n",
       "        text-align: right;\n",
       "    }\n",
       "</style>\n",
       "<table border=\"1\" class=\"dataframe\">\n",
       "  <thead>\n",
       "    <tr style=\"text-align: right;\">\n",
       "      <th></th>\n",
       "      <th>DateTime</th>\n",
       "      <th>Demand</th>\n",
       "      <th>Price</th>\n",
       "      <th>MaxTemp</th>\n",
       "      <th>MinTemp</th>\n",
       "      <th>Rainfall</th>\n",
       "    </tr>\n",
       "  </thead>\n",
       "  <tbody>\n",
       "    <tr>\n",
       "      <th>0</th>\n",
       "      <td>2000-01-01 02:30:00</td>\n",
       "      <td>3615.71333</td>\n",
       "      <td>18.55</td>\n",
       "      <td>27.0</td>\n",
       "      <td>21.0</td>\n",
       "      <td>0.01</td>\n",
       "    </tr>\n",
       "    <tr>\n",
       "      <th>1</th>\n",
       "      <td>2000-01-01 05:30:00</td>\n",
       "      <td>3280.89333</td>\n",
       "      <td>17.50</td>\n",
       "      <td>27.0</td>\n",
       "      <td>21.0</td>\n",
       "      <td>0.01</td>\n",
       "    </tr>\n",
       "    <tr>\n",
       "      <th>2</th>\n",
       "      <td>2000-01-01 08:30:00</td>\n",
       "      <td>3801.56833</td>\n",
       "      <td>17.46</td>\n",
       "      <td>27.0</td>\n",
       "      <td>21.0</td>\n",
       "      <td>0.01</td>\n",
       "    </tr>\n",
       "    <tr>\n",
       "      <th>3</th>\n",
       "      <td>2000-01-01 11:30:00</td>\n",
       "      <td>4185.38833</td>\n",
       "      <td>18.56</td>\n",
       "      <td>27.0</td>\n",
       "      <td>21.0</td>\n",
       "      <td>0.01</td>\n",
       "    </tr>\n",
       "    <tr>\n",
       "      <th>4</th>\n",
       "      <td>2000-01-01 14:30:00</td>\n",
       "      <td>4087.32500</td>\n",
       "      <td>17.50</td>\n",
       "      <td>27.0</td>\n",
       "      <td>21.0</td>\n",
       "      <td>0.01</td>\n",
       "    </tr>\n",
       "    <tr>\n",
       "      <th>5</th>\n",
       "      <td>2000-01-01 17:30:00</td>\n",
       "      <td>4283.08500</td>\n",
       "      <td>20.72</td>\n",
       "      <td>27.0</td>\n",
       "      <td>21.0</td>\n",
       "      <td>0.01</td>\n",
       "    </tr>\n",
       "    <tr>\n",
       "      <th>6</th>\n",
       "      <td>2000-01-01 20:30:00</td>\n",
       "      <td>4460.78833</td>\n",
       "      <td>23.16</td>\n",
       "      <td>27.0</td>\n",
       "      <td>21.0</td>\n",
       "      <td>0.01</td>\n",
       "    </tr>\n",
       "    <tr>\n",
       "      <th>7</th>\n",
       "      <td>2000-01-01 23:30:00</td>\n",
       "      <td>4349.14833</td>\n",
       "      <td>25.87</td>\n",
       "      <td>27.0</td>\n",
       "      <td>21.0</td>\n",
       "      <td>0.01</td>\n",
       "    </tr>\n",
       "    <tr>\n",
       "      <th>8</th>\n",
       "      <td>2000-02-01 02:30:00</td>\n",
       "      <td>3365.96500</td>\n",
       "      <td>18.62</td>\n",
       "      <td>27.0</td>\n",
       "      <td>18.0</td>\n",
       "      <td>0.01</td>\n",
       "    </tr>\n",
       "    <tr>\n",
       "      <th>9</th>\n",
       "      <td>2000-02-01 05:30:00</td>\n",
       "      <td>3296.95667</td>\n",
       "      <td>16.80</td>\n",
       "      <td>27.0</td>\n",
       "      <td>18.0</td>\n",
       "      <td>0.01</td>\n",
       "    </tr>\n",
       "    <tr>\n",
       "      <th>10</th>\n",
       "      <td>2000-02-01 08:30:00</td>\n",
       "      <td>4074.04667</td>\n",
       "      <td>17.50</td>\n",
       "      <td>27.0</td>\n",
       "      <td>18.0</td>\n",
       "      <td>0.01</td>\n",
       "    </tr>\n",
       "    <tr>\n",
       "      <th>11</th>\n",
       "      <td>2000-02-01 11:30:00</td>\n",
       "      <td>4332.05667</td>\n",
       "      <td>20.32</td>\n",
       "      <td>27.0</td>\n",
       "      <td>18.0</td>\n",
       "      <td>0.01</td>\n",
       "    </tr>\n",
       "    <tr>\n",
       "      <th>12</th>\n",
       "      <td>2000-02-01 14:30:00</td>\n",
       "      <td>4230.56167</td>\n",
       "      <td>18.02</td>\n",
       "      <td>27.0</td>\n",
       "      <td>18.0</td>\n",
       "      <td>0.01</td>\n",
       "    </tr>\n",
       "    <tr>\n",
       "      <th>13</th>\n",
       "      <td>2000-02-01 17:30:00</td>\n",
       "      <td>4386.45833</td>\n",
       "      <td>22.28</td>\n",
       "      <td>27.0</td>\n",
       "      <td>18.0</td>\n",
       "      <td>0.01</td>\n",
       "    </tr>\n",
       "    <tr>\n",
       "      <th>14</th>\n",
       "      <td>2000-02-01 20:30:00</td>\n",
       "      <td>4589.87333</td>\n",
       "      <td>25.85</td>\n",
       "      <td>27.0</td>\n",
       "      <td>18.0</td>\n",
       "      <td>0.01</td>\n",
       "    </tr>\n",
       "    <tr>\n",
       "      <th>15</th>\n",
       "      <td>2000-02-01 23:30:00</td>\n",
       "      <td>4509.28833</td>\n",
       "      <td>33.45</td>\n",
       "      <td>27.0</td>\n",
       "      <td>18.0</td>\n",
       "      <td>0.01</td>\n",
       "    </tr>\n",
       "    <tr>\n",
       "      <th>16</th>\n",
       "      <td>2000-03-01 02:30:00</td>\n",
       "      <td>3485.74333</td>\n",
       "      <td>20.81</td>\n",
       "      <td>27.0</td>\n",
       "      <td>20.0</td>\n",
       "      <td>0.01</td>\n",
       "    </tr>\n",
       "    <tr>\n",
       "      <th>17</th>\n",
       "      <td>2000-03-01 05:30:00</td>\n",
       "      <td>3414.18833</td>\n",
       "      <td>18.56</td>\n",
       "      <td>27.0</td>\n",
       "      <td>20.0</td>\n",
       "      <td>0.01</td>\n",
       "    </tr>\n",
       "    <tr>\n",
       "      <th>18</th>\n",
       "      <td>2000-03-01 08:30:00</td>\n",
       "      <td>4281.68667</td>\n",
       "      <td>18.56</td>\n",
       "      <td>27.0</td>\n",
       "      <td>20.0</td>\n",
       "      <td>0.01</td>\n",
       "    </tr>\n",
       "    <tr>\n",
       "      <th>19</th>\n",
       "      <td>2000-03-01 11:30:00</td>\n",
       "      <td>4551.50667</td>\n",
       "      <td>24.57</td>\n",
       "      <td>27.0</td>\n",
       "      <td>20.0</td>\n",
       "      <td>0.01</td>\n",
       "    </tr>\n",
       "  </tbody>\n",
       "</table>\n",
       "</div>"
      ],
      "text/plain": [
       "              DateTime      Demand  Price  MaxTemp  MinTemp  Rainfall\n",
       "0  2000-01-01 02:30:00  3615.71333  18.55     27.0     21.0      0.01\n",
       "1  2000-01-01 05:30:00  3280.89333  17.50     27.0     21.0      0.01\n",
       "2  2000-01-01 08:30:00  3801.56833  17.46     27.0     21.0      0.01\n",
       "3  2000-01-01 11:30:00  4185.38833  18.56     27.0     21.0      0.01\n",
       "4  2000-01-01 14:30:00  4087.32500  17.50     27.0     21.0      0.01\n",
       "5  2000-01-01 17:30:00  4283.08500  20.72     27.0     21.0      0.01\n",
       "6  2000-01-01 20:30:00  4460.78833  23.16     27.0     21.0      0.01\n",
       "7  2000-01-01 23:30:00  4349.14833  25.87     27.0     21.0      0.01\n",
       "8  2000-02-01 02:30:00  3365.96500  18.62     27.0     18.0      0.01\n",
       "9  2000-02-01 05:30:00  3296.95667  16.80     27.0     18.0      0.01\n",
       "10 2000-02-01 08:30:00  4074.04667  17.50     27.0     18.0      0.01\n",
       "11 2000-02-01 11:30:00  4332.05667  20.32     27.0     18.0      0.01\n",
       "12 2000-02-01 14:30:00  4230.56167  18.02     27.0     18.0      0.01\n",
       "13 2000-02-01 17:30:00  4386.45833  22.28     27.0     18.0      0.01\n",
       "14 2000-02-01 20:30:00  4589.87333  25.85     27.0     18.0      0.01\n",
       "15 2000-02-01 23:30:00  4509.28833  33.45     27.0     18.0      0.01\n",
       "16 2000-03-01 02:30:00  3485.74333  20.81     27.0     20.0      0.01\n",
       "17 2000-03-01 05:30:00  3414.18833  18.56     27.0     20.0      0.01\n",
       "18 2000-03-01 08:30:00  4281.68667  18.56     27.0     20.0      0.01\n",
       "19 2000-03-01 11:30:00  4551.50667  24.57     27.0     20.0      0.01"
      ]
     },
     "execution_count": 5,
     "metadata": {},
     "output_type": "execute_result"
    }
   ],
   "source": [
    "data_Train = pd.read_csv(f'{PATH}TrainAll_100CAvg.csv', parse_dates=['DateTime'])\n",
    "data_Train.head(20)"
   ]
  },
  {
   "cell_type": "code",
   "execution_count": 6,
   "metadata": {},
   "outputs": [
    {
     "data": {
      "text/html": [
       "<div>\n",
       "<style scoped>\n",
       "    .dataframe tbody tr th:only-of-type {\n",
       "        vertical-align: middle;\n",
       "    }\n",
       "\n",
       "    .dataframe tbody tr th {\n",
       "        vertical-align: top;\n",
       "    }\n",
       "\n",
       "    .dataframe thead th {\n",
       "        text-align: right;\n",
       "    }\n",
       "</style>\n",
       "<table border=\"1\" class=\"dataframe\">\n",
       "  <thead>\n",
       "    <tr style=\"text-align: right;\">\n",
       "      <th></th>\n",
       "      <th>Id</th>\n",
       "      <th>DateTime</th>\n",
       "      <th>Demand</th>\n",
       "      <th>MaxTemp</th>\n",
       "      <th>MinTemp</th>\n",
       "      <th>Rainfall</th>\n",
       "    </tr>\n",
       "  </thead>\n",
       "  <tbody>\n",
       "    <tr>\n",
       "      <th>0</th>\n",
       "      <td>1</td>\n",
       "      <td>2018-01-04 02:30:00</td>\n",
       "      <td>5356.05</td>\n",
       "      <td>28.9</td>\n",
       "      <td>20.1</td>\n",
       "      <td>0.01</td>\n",
       "    </tr>\n",
       "    <tr>\n",
       "      <th>1</th>\n",
       "      <td>2</td>\n",
       "      <td>2018-01-04 05:30:00</td>\n",
       "      <td>5384.68</td>\n",
       "      <td>28.9</td>\n",
       "      <td>20.1</td>\n",
       "      <td>0.01</td>\n",
       "    </tr>\n",
       "    <tr>\n",
       "      <th>2</th>\n",
       "      <td>3</td>\n",
       "      <td>2018-01-04 08:30:00</td>\n",
       "      <td>5678.77</td>\n",
       "      <td>28.9</td>\n",
       "      <td>20.1</td>\n",
       "      <td>0.01</td>\n",
       "    </tr>\n",
       "    <tr>\n",
       "      <th>3</th>\n",
       "      <td>4</td>\n",
       "      <td>2018-01-04 11:30:00</td>\n",
       "      <td>5749.00</td>\n",
       "      <td>28.9</td>\n",
       "      <td>20.1</td>\n",
       "      <td>0.01</td>\n",
       "    </tr>\n",
       "    <tr>\n",
       "      <th>4</th>\n",
       "      <td>5</td>\n",
       "      <td>2018-01-04 14:30:00</td>\n",
       "      <td>6026.71</td>\n",
       "      <td>28.9</td>\n",
       "      <td>20.1</td>\n",
       "      <td>0.01</td>\n",
       "    </tr>\n",
       "    <tr>\n",
       "      <th>5</th>\n",
       "      <td>6</td>\n",
       "      <td>2018-01-04 17:30:00</td>\n",
       "      <td>6802.71</td>\n",
       "      <td>28.9</td>\n",
       "      <td>20.1</td>\n",
       "      <td>0.01</td>\n",
       "    </tr>\n",
       "    <tr>\n",
       "      <th>6</th>\n",
       "      <td>7</td>\n",
       "      <td>2018-01-04 20:30:00</td>\n",
       "      <td>6685.91</td>\n",
       "      <td>28.9</td>\n",
       "      <td>20.1</td>\n",
       "      <td>0.01</td>\n",
       "    </tr>\n",
       "    <tr>\n",
       "      <th>7</th>\n",
       "      <td>8</td>\n",
       "      <td>2018-01-04 23:30:00</td>\n",
       "      <td>6052.47</td>\n",
       "      <td>28.9</td>\n",
       "      <td>20.1</td>\n",
       "      <td>0.01</td>\n",
       "    </tr>\n",
       "    <tr>\n",
       "      <th>8</th>\n",
       "      <td>9</td>\n",
       "      <td>2018-02-04 02:30:00</td>\n",
       "      <td>5345.31</td>\n",
       "      <td>28.6</td>\n",
       "      <td>20.7</td>\n",
       "      <td>0.40</td>\n",
       "    </tr>\n",
       "    <tr>\n",
       "      <th>9</th>\n",
       "      <td>10</td>\n",
       "      <td>2018-02-04 05:30:00</td>\n",
       "      <td>5383.65</td>\n",
       "      <td>28.6</td>\n",
       "      <td>20.7</td>\n",
       "      <td>0.40</td>\n",
       "    </tr>\n",
       "    <tr>\n",
       "      <th>10</th>\n",
       "      <td>11</td>\n",
       "      <td>2018-02-04 08:30:00</td>\n",
       "      <td>5851.17</td>\n",
       "      <td>28.6</td>\n",
       "      <td>20.7</td>\n",
       "      <td>0.40</td>\n",
       "    </tr>\n",
       "    <tr>\n",
       "      <th>11</th>\n",
       "      <td>12</td>\n",
       "      <td>2018-02-04 11:30:00</td>\n",
       "      <td>6028.92</td>\n",
       "      <td>28.6</td>\n",
       "      <td>20.7</td>\n",
       "      <td>0.40</td>\n",
       "    </tr>\n",
       "    <tr>\n",
       "      <th>12</th>\n",
       "      <td>13</td>\n",
       "      <td>2018-02-04 14:30:00</td>\n",
       "      <td>6192.32</td>\n",
       "      <td>28.6</td>\n",
       "      <td>20.7</td>\n",
       "      <td>0.40</td>\n",
       "    </tr>\n",
       "    <tr>\n",
       "      <th>13</th>\n",
       "      <td>14</td>\n",
       "      <td>2018-02-04 17:30:00</td>\n",
       "      <td>7127.87</td>\n",
       "      <td>28.6</td>\n",
       "      <td>20.7</td>\n",
       "      <td>0.40</td>\n",
       "    </tr>\n",
       "    <tr>\n",
       "      <th>14</th>\n",
       "      <td>15</td>\n",
       "      <td>2018-02-04 20:30:00</td>\n",
       "      <td>6894.84</td>\n",
       "      <td>28.6</td>\n",
       "      <td>20.7</td>\n",
       "      <td>0.40</td>\n",
       "    </tr>\n",
       "    <tr>\n",
       "      <th>15</th>\n",
       "      <td>16</td>\n",
       "      <td>2018-02-04 23:30:00</td>\n",
       "      <td>6008.70</td>\n",
       "      <td>28.6</td>\n",
       "      <td>20.7</td>\n",
       "      <td>0.40</td>\n",
       "    </tr>\n",
       "    <tr>\n",
       "      <th>16</th>\n",
       "      <td>17</td>\n",
       "      <td>2018-03-04 02:30:00</td>\n",
       "      <td>5281.21</td>\n",
       "      <td>28.0</td>\n",
       "      <td>19.8</td>\n",
       "      <td>0.01</td>\n",
       "    </tr>\n",
       "    <tr>\n",
       "      <th>17</th>\n",
       "      <td>18</td>\n",
       "      <td>2018-03-04 05:30:00</td>\n",
       "      <td>5604.82</td>\n",
       "      <td>28.0</td>\n",
       "      <td>19.8</td>\n",
       "      <td>0.01</td>\n",
       "    </tr>\n",
       "    <tr>\n",
       "      <th>18</th>\n",
       "      <td>19</td>\n",
       "      <td>2018-03-04 08:30:00</td>\n",
       "      <td>6714.61</td>\n",
       "      <td>28.0</td>\n",
       "      <td>19.8</td>\n",
       "      <td>0.01</td>\n",
       "    </tr>\n",
       "    <tr>\n",
       "      <th>19</th>\n",
       "      <td>20</td>\n",
       "      <td>2018-03-04 11:30:00</td>\n",
       "      <td>6544.33</td>\n",
       "      <td>28.0</td>\n",
       "      <td>19.8</td>\n",
       "      <td>0.01</td>\n",
       "    </tr>\n",
       "  </tbody>\n",
       "</table>\n",
       "</div>"
      ],
      "text/plain": [
       "    Id            DateTime   Demand  MaxTemp  MinTemp  Rainfall\n",
       "0    1 2018-01-04 02:30:00  5356.05     28.9     20.1      0.01\n",
       "1    2 2018-01-04 05:30:00  5384.68     28.9     20.1      0.01\n",
       "2    3 2018-01-04 08:30:00  5678.77     28.9     20.1      0.01\n",
       "3    4 2018-01-04 11:30:00  5749.00     28.9     20.1      0.01\n",
       "4    5 2018-01-04 14:30:00  6026.71     28.9     20.1      0.01\n",
       "5    6 2018-01-04 17:30:00  6802.71     28.9     20.1      0.01\n",
       "6    7 2018-01-04 20:30:00  6685.91     28.9     20.1      0.01\n",
       "7    8 2018-01-04 23:30:00  6052.47     28.9     20.1      0.01\n",
       "8    9 2018-02-04 02:30:00  5345.31     28.6     20.7      0.40\n",
       "9   10 2018-02-04 05:30:00  5383.65     28.6     20.7      0.40\n",
       "10  11 2018-02-04 08:30:00  5851.17     28.6     20.7      0.40\n",
       "11  12 2018-02-04 11:30:00  6028.92     28.6     20.7      0.40\n",
       "12  13 2018-02-04 14:30:00  6192.32     28.6     20.7      0.40\n",
       "13  14 2018-02-04 17:30:00  7127.87     28.6     20.7      0.40\n",
       "14  15 2018-02-04 20:30:00  6894.84     28.6     20.7      0.40\n",
       "15  16 2018-02-04 23:30:00  6008.70     28.6     20.7      0.40\n",
       "16  17 2018-03-04 02:30:00  5281.21     28.0     19.8      0.01\n",
       "17  18 2018-03-04 05:30:00  5604.82     28.0     19.8      0.01\n",
       "18  19 2018-03-04 08:30:00  6714.61     28.0     19.8      0.01\n",
       "19  20 2018-03-04 11:30:00  6544.33     28.0     19.8      0.01"
      ]
     },
     "execution_count": 6,
     "metadata": {},
     "output_type": "execute_result"
    }
   ],
   "source": [
    "data_Test = pd.read_csv(f'{PATH}Test_100CAvg.csv', parse_dates=['DateTime'])\n",
    "data_Test.head(20)"
   ]
  },
  {
   "cell_type": "markdown",
   "metadata": {},
   "source": [
    "Check lengths of data set"
   ]
  },
  {
   "cell_type": "code",
   "execution_count": 7,
   "metadata": {},
   "outputs": [
    {
     "data": {
      "text/plain": [
       "53318"
      ]
     },
     "execution_count": 7,
     "metadata": {},
     "output_type": "execute_result"
    }
   ],
   "source": [
    "len(data_Train)"
   ]
  },
  {
   "cell_type": "code",
   "execution_count": 8,
   "metadata": {},
   "outputs": [
    {
     "data": {
      "text/plain": [
       "488"
      ]
     },
     "execution_count": 8,
     "metadata": {},
     "output_type": "execute_result"
    }
   ],
   "source": [
    "len(data_Test)"
   ]
  },
  {
   "cell_type": "markdown",
   "metadata": {},
   "source": [
    "Add Extra Date information"
   ]
  },
  {
   "cell_type": "code",
   "execution_count": 9,
   "metadata": {},
   "outputs": [],
   "source": [
    "add_datepart(data_Train, \"DateTime\", drop=False)"
   ]
  },
  {
   "cell_type": "code",
   "execution_count": 10,
   "metadata": {},
   "outputs": [],
   "source": [
    "add_datepart(data_Test, \"DateTime\", drop=False)"
   ]
  },
  {
   "cell_type": "markdown",
   "metadata": {
    "collapsed": true
   },
   "source": [
    "Adjust Columns, discard unnecessary data"
   ]
  },
  {
   "cell_type": "code",
   "execution_count": 9,
   "metadata": {},
   "outputs": [
    {
     "data": {
      "text/plain": [
       "Index(['DateTime', 'Demand', 'Price', 'MaxTemp', 'MinTemp', 'Rainfall'], dtype='object')"
      ]
     },
     "execution_count": 9,
     "metadata": {},
     "output_type": "execute_result"
    }
   ],
   "source": [
    "data_Train.columns"
   ]
  },
  {
   "cell_type": "code",
   "execution_count": 10,
   "metadata": {},
   "outputs": [
    {
     "data": {
      "text/plain": [
       "Index(['Id', 'DateTime', 'Demand', 'MaxTemp', 'MinTemp', 'Rainfall'], dtype='object')"
      ]
     },
     "execution_count": 10,
     "metadata": {},
     "output_type": "execute_result"
    }
   ],
   "source": [
    "data_Test.columns"
   ]
  },
  {
   "cell_type": "code",
   "execution_count": 13,
   "metadata": {},
   "outputs": [],
   "source": [
    "#columns = ['DateTimeIs_month_end','MaxTemp', 'MinTemp', 'Rainfall',\n",
    "#       'DateTimeIs_month_start', 'DateTimeIs_quarter_end',\n",
    "#       'DateTimeIs_quarter_start', 'DateTimeIs_year_end',\n",
    "#       'DateTimeIs_year_start','DateTimeElapsed']"
   ]
  },
  {
   "cell_type": "code",
   "execution_count": 11,
   "metadata": {},
   "outputs": [],
   "source": [
    "columns = ['MaxTemp', 'MinTemp', 'Rainfall']"
   ]
  },
  {
   "cell_type": "code",
   "execution_count": 12,
   "metadata": {},
   "outputs": [],
   "source": [
    "data_Train.drop(columns,1,inplace=True)"
   ]
  },
  {
   "cell_type": "code",
   "execution_count": 13,
   "metadata": {},
   "outputs": [],
   "source": [
    "data_Test.drop(columns,1,inplace=True)"
   ]
  },
  {
   "cell_type": "code",
   "execution_count": 14,
   "metadata": {},
   "outputs": [
    {
     "data": {
      "text/plain": [
       "Index(['DateTime', 'Demand', 'Price'], dtype='object')"
      ]
     },
     "execution_count": 14,
     "metadata": {},
     "output_type": "execute_result"
    }
   ],
   "source": [
    "data_Train.columns"
   ]
  },
  {
   "cell_type": "code",
   "execution_count": 15,
   "metadata": {},
   "outputs": [
    {
     "data": {
      "text/plain": [
       "Index(['Id', 'DateTime', 'Demand'], dtype='object')"
      ]
     },
     "execution_count": 15,
     "metadata": {},
     "output_type": "execute_result"
    }
   ],
   "source": [
    "data_Test.columns"
   ]
  },
  {
   "cell_type": "markdown",
   "metadata": {},
   "source": [
    "Backup to feather"
   ]
  },
  {
   "cell_type": "code",
   "execution_count": 16,
   "metadata": {},
   "outputs": [],
   "source": [
    "data_Train.reset_index(inplace=True)\n",
    "data_Test.reset_index(inplace=True)"
   ]
  },
  {
   "cell_type": "code",
   "execution_count": 17,
   "metadata": {},
   "outputs": [],
   "source": [
    "data_Train.to_feather(f'{PATH}df')\n",
    "data_Test.to_feather(f'{PATH}df_test')"
   ]
  },
  {
   "cell_type": "markdown",
   "metadata": {},
   "source": [
    "Load the data from Feather"
   ]
  },
  {
   "cell_type": "code",
   "execution_count": 18,
   "metadata": {},
   "outputs": [],
   "source": [
    "data_Train = pd.read_feather(f'{PATH}df')"
   ]
  },
  {
   "cell_type": "code",
   "execution_count": 19,
   "metadata": {},
   "outputs": [],
   "source": [
    "data_Test= pd.read_feather(f'{PATH}df_test')"
   ]
  },
  {
   "cell_type": "markdown",
   "metadata": {},
   "source": [
    "Convert DateTime to datetime for both datasets"
   ]
  },
  {
   "cell_type": "code",
   "execution_count": 20,
   "metadata": {},
   "outputs": [],
   "source": [
    "data_Train[\"DateTime\"] = pd.to_datetime(data_Train.DateTime)"
   ]
  },
  {
   "cell_type": "code",
   "execution_count": 21,
   "metadata": {},
   "outputs": [],
   "source": [
    "data_Test[\"DateTime\"] = pd.to_datetime(data_Test.DateTime)"
   ]
  },
  {
   "cell_type": "markdown",
   "metadata": {},
   "source": [
    "Check data"
   ]
  },
  {
   "cell_type": "code",
   "execution_count": 22,
   "metadata": {},
   "outputs": [
    {
     "data": {
      "text/plain": [
       "Index(['index', 'DateTime', 'Demand', 'Price'], dtype='object')"
      ]
     },
     "execution_count": 22,
     "metadata": {},
     "output_type": "execute_result"
    }
   ],
   "source": [
    "data_Train.columns"
   ]
  },
  {
   "cell_type": "code",
   "execution_count": 23,
   "metadata": {},
   "outputs": [
    {
     "data": {
      "text/html": [
       "<div>\n",
       "<style scoped>\n",
       "    .dataframe tbody tr th:only-of-type {\n",
       "        vertical-align: middle;\n",
       "    }\n",
       "\n",
       "    .dataframe tbody tr th {\n",
       "        vertical-align: top;\n",
       "    }\n",
       "\n",
       "    .dataframe thead th {\n",
       "        text-align: right;\n",
       "    }\n",
       "</style>\n",
       "<table border=\"1\" class=\"dataframe\">\n",
       "  <thead>\n",
       "    <tr style=\"text-align: right;\">\n",
       "      <th></th>\n",
       "      <th>0</th>\n",
       "      <th>1</th>\n",
       "      <th>2</th>\n",
       "      <th>3</th>\n",
       "      <th>4</th>\n",
       "    </tr>\n",
       "  </thead>\n",
       "  <tbody>\n",
       "    <tr>\n",
       "      <th>index</th>\n",
       "      <td>0</td>\n",
       "      <td>1</td>\n",
       "      <td>2</td>\n",
       "      <td>3</td>\n",
       "      <td>4</td>\n",
       "    </tr>\n",
       "    <tr>\n",
       "      <th>DateTime</th>\n",
       "      <td>2000-01-01 02:30:00</td>\n",
       "      <td>2000-01-01 05:30:00</td>\n",
       "      <td>2000-01-01 08:30:00</td>\n",
       "      <td>2000-01-01 11:30:00</td>\n",
       "      <td>2000-01-01 14:30:00</td>\n",
       "    </tr>\n",
       "    <tr>\n",
       "      <th>Demand</th>\n",
       "      <td>3615.71</td>\n",
       "      <td>3280.89</td>\n",
       "      <td>3801.57</td>\n",
       "      <td>4185.39</td>\n",
       "      <td>4087.32</td>\n",
       "    </tr>\n",
       "    <tr>\n",
       "      <th>Price</th>\n",
       "      <td>18.55</td>\n",
       "      <td>17.5</td>\n",
       "      <td>17.46</td>\n",
       "      <td>18.56</td>\n",
       "      <td>17.5</td>\n",
       "    </tr>\n",
       "  </tbody>\n",
       "</table>\n",
       "</div>"
      ],
      "text/plain": [
       "                            0                    1                    2  \\\n",
       "index                       0                    1                    2   \n",
       "DateTime  2000-01-01 02:30:00  2000-01-01 05:30:00  2000-01-01 08:30:00   \n",
       "Demand                3615.71              3280.89              3801.57   \n",
       "Price                   18.55                 17.5                17.46   \n",
       "\n",
       "                            3                    4  \n",
       "index                       3                    4  \n",
       "DateTime  2000-01-01 11:30:00  2000-01-01 14:30:00  \n",
       "Demand                4185.39              4087.32  \n",
       "Price                   18.56                 17.5  "
      ]
     },
     "execution_count": 23,
     "metadata": {},
     "output_type": "execute_result"
    }
   ],
   "source": [
    "data_Train.head().T.head(12)"
   ]
  },
  {
   "cell_type": "markdown",
   "metadata": {},
   "source": [
    "Set Category and Continuous Variables"
   ]
  },
  {
   "cell_type": "code",
   "execution_count": 24,
   "metadata": {},
   "outputs": [
    {
     "data": {
      "text/plain": [
       "53318"
      ]
     },
     "execution_count": 24,
     "metadata": {},
     "output_type": "execute_result"
    }
   ],
   "source": [
    "cat_vars = ['DateTime']\n",
    "contin_vars = ['Demand']\n",
    "n = len(data_Train); n"
   ]
  },
  {
   "cell_type": "code",
   "execution_count": 27,
   "metadata": {},
   "outputs": [],
   "source": [
    "dep = 'Price'\n",
    "data_Train = data_Train[cat_vars+contin_vars+[dep, 'DateTime']].copy()"
   ]
  },
  {
   "cell_type": "code",
   "execution_count": 28,
   "metadata": {},
   "outputs": [],
   "source": [
    "data_Test[dep] = 0\n",
    "data_Test = data_Test[cat_vars+contin_vars+[dep, 'DateTime', 'Id']].copy()"
   ]
  },
  {
   "cell_type": "code",
   "execution_count": 29,
   "metadata": {},
   "outputs": [],
   "source": [
    "for v in cat_vars: data_Train[v] = data_Train[v].astype('category').cat.as_ordered()"
   ]
  },
  {
   "cell_type": "code",
   "execution_count": 30,
   "metadata": {},
   "outputs": [
    {
     "data": {
      "text/plain": [
       "Index(['DateTimeYear', 'DateTimeMonth', 'DateTimeWeek', 'DateTimeDay',\n",
       "       'DateTimeDayofweek', 'DateTimeDayofyear', 'Demand', 'Price', 'DateTime',\n",
       "       'Id'],\n",
       "      dtype='object')"
      ]
     },
     "execution_count": 30,
     "metadata": {},
     "output_type": "execute_result"
    }
   ],
   "source": [
    "data_Test.columns"
   ]
  },
  {
   "cell_type": "code",
   "execution_count": 31,
   "metadata": {},
   "outputs": [
    {
     "data": {
      "text/plain": [
       "Index(['DateTimeYear', 'DateTimeMonth', 'DateTimeWeek', 'DateTimeDay',\n",
       "       'DateTimeDayofweek', 'DateTimeDayofyear', 'Demand', 'Price',\n",
       "       'DateTime'],\n",
       "      dtype='object')"
      ]
     },
     "execution_count": 31,
     "metadata": {},
     "output_type": "execute_result"
    }
   ],
   "source": [
    "data_Train.columns"
   ]
  },
  {
   "cell_type": "code",
   "execution_count": 32,
   "metadata": {},
   "outputs": [],
   "source": [
    "apply_cats(data_Test, data_Train)"
   ]
  },
  {
   "cell_type": "markdown",
   "metadata": {},
   "source": [
    "Set Continuous Variables to Float32"
   ]
  },
  {
   "cell_type": "code",
   "execution_count": 33,
   "metadata": {},
   "outputs": [],
   "source": [
    "for v in contin_vars:\n",
    "    data_Train[v] = data_Train[v].astype('float32')\n",
    "    data_Test[v] = data_Test[v].astype('float32')"
   ]
  },
  {
   "cell_type": "markdown",
   "metadata": {},
   "source": [
    "Set DateTime as index for both"
   ]
  },
  {
   "cell_type": "code",
   "execution_count": 34,
   "metadata": {},
   "outputs": [],
   "source": [
    "data_Train = data_Train.set_index(\"DateTime\")"
   ]
  },
  {
   "cell_type": "code",
   "execution_count": 35,
   "metadata": {},
   "outputs": [],
   "source": [
    "data_Test = data_Test.set_index(\"DateTime\")"
   ]
  },
  {
   "cell_type": "markdown",
   "metadata": {},
   "source": [
    "Split off response variable (Price) and convert dataframe to entirely numeric data"
   ]
  },
  {
   "cell_type": "code",
   "execution_count": 36,
   "metadata": {},
   "outputs": [],
   "source": [
    "df, y, nas, mapper = proc_df(data_Train, 'Price', do_scale=True)\n",
    "yl = np.log(y)"
   ]
  },
  {
   "cell_type": "code",
   "execution_count": 37,
   "metadata": {},
   "outputs": [],
   "source": [
    "df_test, _, nas, mapper = proc_df(data_Test, 'Price', do_scale=True, skip_flds=['Id'],\n",
    "                                  mapper=mapper, na_dict=nas)"
   ]
  },
  {
   "cell_type": "markdown",
   "metadata": {},
   "source": [
    "Set validation set to last 25% of Training set"
   ]
  },
  {
   "cell_type": "code",
   "execution_count": 38,
   "metadata": {},
   "outputs": [],
   "source": [
    "samp_size = len(df)"
   ]
  },
  {
   "cell_type": "code",
   "execution_count": 39,
   "metadata": {},
   "outputs": [],
   "source": [
    "train_ratio = 0.65\n",
    "#train_ratio = 0.75\n",
    "#train_ratio = 0.9\n",
    "train_size = int(samp_size * train_ratio); train_size\n",
    "val_idx = list(range(train_size, len(df)))"
   ]
  },
  {
   "cell_type": "markdown",
   "metadata": {},
   "source": [
    "Define Root-mean-squared percent error to use as metric"
   ]
  },
  {
   "cell_type": "code",
   "execution_count": 40,
   "metadata": {},
   "outputs": [],
   "source": [
    "def inv_y(a): return np.exp(a)\n",
    "\n",
    "def exp_rmspe(y_pred, targ):\n",
    "    targ = inv_y(targ)\n",
    "    pct_var = (targ - inv_y(y_pred))/targ\n",
    "    return math.sqrt((pct_var**2).mean())\n",
    "\n",
    "max_log_y = np.max(yl)\n",
    "y_range = (0, max_log_y*1.2)"
   ]
  },
  {
   "cell_type": "markdown",
   "metadata": {},
   "source": [
    "Create ModelData from DataFrame"
   ]
  },
  {
   "cell_type": "code",
   "execution_count": 41,
   "metadata": {},
   "outputs": [],
   "source": [
    "md = ColumnarModelData.from_data_frame(PATH, val_idx, df, yl.astype(np.float32), cat_flds=cat_vars, bs=32,\n",
    "                                      test_df=df_test)"
   ]
  },
  {
   "cell_type": "markdown",
   "metadata": {},
   "source": [
    "Use the cardinal for each Categorical variable for embeddings"
   ]
  },
  {
   "cell_type": "code",
   "execution_count": 108,
   "metadata": {},
   "outputs": [],
   "source": [
    "cat_sz = [(c, len(data_Train[c].cat.categories)+1) for c in cat_vars]"
   ]
  },
  {
   "cell_type": "code",
   "execution_count": 109,
   "metadata": {},
   "outputs": [
    {
     "data": {
      "text/plain": [
       "[('DateTimeYear', 20),\n",
       " ('DateTimeMonth', 13),\n",
       " ('DateTimeWeek', 54),\n",
       " ('DateTimeDay', 32),\n",
       " ('DateTimeDayofweek', 8),\n",
       " ('DateTimeDayofyear', 367)]"
      ]
     },
     "execution_count": 109,
     "metadata": {},
     "output_type": "execute_result"
    }
   ],
   "source": [
    "cat_sz"
   ]
  },
  {
   "cell_type": "code",
   "execution_count": 110,
   "metadata": {},
   "outputs": [],
   "source": [
    "emb_szs = [(c, min(50, (c+1)//2)) for _,c in cat_sz]"
   ]
  },
  {
   "cell_type": "code",
   "execution_count": 111,
   "metadata": {},
   "outputs": [
    {
     "data": {
      "text/plain": [
       "[(20, 10), (13, 7), (54, 27), (32, 16), (8, 4), (367, 50)]"
      ]
     },
     "execution_count": 111,
     "metadata": {},
     "output_type": "execute_result"
    }
   ],
   "source": [
    "emb_szs"
   ]
  },
  {
   "cell_type": "markdown",
   "metadata": {},
   "source": [
    "Find a Learning Rate"
   ]
  },
  {
   "cell_type": "code",
   "execution_count": 115,
   "metadata": {},
   "outputs": [],
   "source": [
    "m = md.get_learner(emb_szs, len(df.columns)-len(cat_vars),\n",
    "                   0.04, 1, [1000,500], [0.001,0.01], y_range=y_range)\n",
    "lr = 1e-4"
   ]
  },
  {
   "cell_type": "code",
   "execution_count": 116,
   "metadata": {},
   "outputs": [
    {
     "data": {
      "application/vnd.jupyter.widget-view+json": {
       "model_id": "2f336c87598a46c7a1ead68e0b22fde0",
       "version_major": 2,
       "version_minor": 0
      },
      "text/plain": [
       "HBox(children=(IntProgress(value=0, description='Epoch', max=1), HTML(value='')))"
      ]
     },
     "metadata": {},
     "output_type": "display_data"
    },
    {
     "name": "stdout",
     "output_type": "stream",
     "text": [
      " 59%|█████▉    | 644/1083 [00:03<00:02, 168.84it/s, loss=0.446] \n",
      "                                                               \r"
     ]
    }
   ],
   "source": [
    "m.lr_find()"
   ]
  },
  {
   "cell_type": "code",
   "execution_count": 117,
   "metadata": {},
   "outputs": [
    {
     "data": {
      "image/png": "[encoded data removed]",
      "text/plain": [
       "<Figure size 432x288 with 1 Axes>"
      ]
     },
     "metadata": {},
     "output_type": "display_data"
    }
   ],
   "source": [
    "m.sched.plot(100)"
   ]
  },
  {
   "cell_type": "markdown",
   "metadata": {},
   "source": [
    "Have a Look at the model"
   ]
  },
  {
   "cell_type": "code",
   "execution_count": 56,
   "metadata": {},
   "outputs": [
    {
     "data": {
      "text/plain": [
       "MixedInputModel(\n",
       "  (embs): ModuleList(\n",
       "    (0): Embedding(5, 3)\n",
       "    (1): Embedding(13, 7)\n",
       "    (2): Embedding(53, 27)\n",
       "    (3): Embedding(32, 16)\n",
       "    (4): Embedding(8, 4)\n",
       "    (5): Embedding(367, 50)\n",
       "    (6): Embedding(3, 2)\n",
       "    (7): Embedding(3, 2)\n",
       "    (8): Embedding(3, 2)\n",
       "    (9): Embedding(3, 2)\n",
       "    (10): Embedding(3, 2)\n",
       "    (11): Embedding(3, 2)\n",
       "  )\n",
       "  (lins): ModuleList(\n",
       "    (0): Linear(in_features=123, out_features=1000, bias=True)\n",
       "    (1): Linear(in_features=1000, out_features=500, bias=True)\n",
       "  )\n",
       "  (bns): ModuleList(\n",
       "    (0): BatchNorm1d(1000, eps=1e-05, momentum=0.1, affine=True)\n",
       "    (1): BatchNorm1d(500, eps=1e-05, momentum=0.1, affine=True)\n",
       "  )\n",
       "  (outp): Linear(in_features=500, out_features=1, bias=True)\n",
       "  (emb_drop): Dropout(p=0.04)\n",
       "  (drops): ModuleList(\n",
       "    (0): Dropout(p=0.001)\n",
       "    (1): Dropout(p=0.01)\n",
       "  )\n",
       "  (bn): BatchNorm1d(4, eps=1e-05, momentum=0.1, affine=True)\n",
       ")"
      ]
     },
     "execution_count": 56,
     "metadata": {},
     "output_type": "execute_result"
    }
   ],
   "source": [
    "m"
   ]
  },
  {
   "cell_type": "markdown",
   "metadata": {},
   "source": [
    "Do some initial learning"
   ]
  },
  {
   "cell_type": "code",
   "execution_count": 118,
   "metadata": {},
   "outputs": [],
   "source": [
    "m = md.get_learner(emb_szs, len(df.columns)-len(cat_vars),\n",
    "                   0.04, 1, [1000,500], [0.001,0.01], y_range=y_range)\n",
    "lr = 0.005"
   ]
  },
  {
   "cell_type": "code",
   "execution_count": 119,
   "metadata": {},
   "outputs": [
    {
     "data": {
      "application/vnd.jupyter.widget-view+json": {
       "model_id": "6cd6f32a5a7e4c80ac7928e1b383559f",
       "version_major": 2,
       "version_minor": 0
      },
      "text/plain": [
       "HBox(children=(IntProgress(value=0, description='Epoch', max=3), HTML(value='')))"
      ]
     },
     "metadata": {},
     "output_type": "display_data"
    },
    {
     "name": "stdout",
     "output_type": "stream",
     "text": [
      "epoch      trn_loss   val_loss   exp_rmspe                       \n",
      "    0      0.089944   0.413164   51.935488 \n",
      "    1      0.066239   0.449577   48.060328                       \n",
      "    2      0.053422   0.353184   50.978578                       \n",
      "\n"
     ]
    },
    {
     "data": {
      "text/plain": [
       "[array([0.35318]), 50.97857808413754]"
      ]
     },
     "execution_count": 119,
     "metadata": {},
     "output_type": "execute_result"
    }
   ],
   "source": [
    "m.fit(lr, 3, metrics=[exp_rmspe])"
   ]
  },
  {
   "cell_type": "code",
   "execution_count": 120,
   "metadata": {},
   "outputs": [
    {
     "data": {
      "application/vnd.jupyter.widget-view+json": {
       "model_id": "daa9930034c9440485809cc81b2e433f",
       "version_major": 2,
       "version_minor": 0
      },
      "text/plain": [
       "HBox(children=(IntProgress(value=0, description='Epoch', max=5), HTML(value='')))"
      ]
     },
     "metadata": {},
     "output_type": "display_data"
    },
    {
     "name": "stdout",
     "output_type": "stream",
     "text": [
      "epoch      trn_loss   val_loss   exp_rmspe                       \n",
      "    0      0.064483   0.368151   50.927671 \n",
      "    1      0.086711   0.367959   50.012966                       \n",
      "    2      0.049394   0.372675   49.996455                       \n",
      "    3      0.044743   0.382898   49.073379                       \n",
      "    4      0.060562   0.373521   50.915204                       \n",
      "\n"
     ]
    },
    {
     "data": {
      "text/plain": [
       "[array([0.37352]), 50.915203694620295]"
      ]
     },
     "execution_count": 120,
     "metadata": {},
     "output_type": "execute_result"
    }
   ],
   "source": [
    "m.fit(lr, 5, metrics=[exp_rmspe], cycle_len=1)"
   ]
  },
  {
   "cell_type": "code",
   "execution_count": 121,
   "metadata": {},
   "outputs": [],
   "source": [
    "m.unfreeze()"
   ]
  },
  {
   "cell_type": "code",
   "execution_count": 122,
   "metadata": {},
   "outputs": [
    {
     "data": {
      "application/vnd.jupyter.widget-view+json": {
       "model_id": "1ec1e05d507a43d09770ba951426fb2a",
       "version_major": 2,
       "version_minor": 0
      },
      "text/plain": [
       "HBox(children=(IntProgress(value=0, description='Epoch', max=8), HTML(value='')))"
      ]
     },
     "metadata": {},
     "output_type": "display_data"
    },
    {
     "name": "stdout",
     "output_type": "stream",
     "text": [
      "epoch      trn_loss   val_loss   exp_rmspe                       \n",
      "    0      0.072125   0.344874   53.12479  \n",
      "    1      0.075574   0.359871   50.923075                       \n",
      "    2      0.038176   0.356314   50.584174                       \n",
      "    3      0.035183   0.36159    49.838662                       \n",
      "    4      0.090855   0.390124   51.803631                       \n",
      "    5      0.04686    0.380363   48.058074                       \n",
      "    6      0.03815    0.362115   49.752141                       \n",
      "    7      0.052303   0.359938   49.951877                       \n",
      "\n"
     ]
    },
    {
     "data": {
      "text/plain": [
       "[array([0.35994]), 49.95187705078758]"
      ]
     },
     "execution_count": 122,
     "metadata": {},
     "output_type": "execute_result"
    }
   ],
   "source": [
    "m.fit(lr, 2, metrics=[exp_rmspe], cycle_len=4)"
   ]
  },
  {
   "cell_type": "markdown",
   "metadata": {},
   "source": [
    "All"
   ]
  },
  {
   "cell_type": "code",
   "execution_count": 123,
   "metadata": {},
   "outputs": [],
   "source": [
    "m = md.get_learner(emb_szs, len(df.columns)-len(cat_vars),\n",
    "                   0.01, 1, [1000,500], [0.01,0.05], y_range=y_range)\n",
    "lr = 0.005"
   ]
  },
  {
   "cell_type": "code",
   "execution_count": 124,
   "metadata": {},
   "outputs": [
    {
     "data": {
      "application/vnd.jupyter.widget-view+json": {
       "model_id": "da43d614884f4e6d995f0d0ace0d8f39",
       "version_major": 2,
       "version_minor": 0
      },
      "text/plain": [
       "HBox(children=(IntProgress(value=0, description='Epoch', max=3), HTML(value='')))"
      ]
     },
     "metadata": {},
     "output_type": "display_data"
    },
    {
     "name": "stdout",
     "output_type": "stream",
     "text": [
      "epoch      trn_loss   val_loss   exp_rmspe                       \n",
      "    0      0.09234    0.473261   40.932356 \n",
      "    1      0.071429   0.415352   47.695736                       \n",
      "    2      0.101296   0.420178   43.382157                       \n",
      "\n"
     ]
    },
    {
     "data": {
      "text/plain": [
       "[array([0.42018]), 43.382157233562694]"
      ]
     },
     "execution_count": 124,
     "metadata": {},
     "output_type": "execute_result"
    }
   ],
   "source": [
    "m.fit(lr, 3, metrics=[exp_rmspe])"
   ]
  },
  {
   "cell_type": "code",
   "execution_count": 125,
   "metadata": {},
   "outputs": [
    {
     "data": {
      "application/vnd.jupyter.widget-view+json": {
       "model_id": "0e2f5bffea874a15b992a7374475e14d",
       "version_major": 2,
       "version_minor": 0
      },
      "text/plain": [
       "HBox(children=(IntProgress(value=0, description='Epoch', max=2), HTML(value='')))"
      ]
     },
     "metadata": {},
     "output_type": "display_data"
    },
    {
     "name": "stdout",
     "output_type": "stream",
     "text": [
      "epoch      trn_loss   val_loss   exp_rmspe                       \n",
      "    0      0.051187   0.388244   45.75097  \n",
      "    1      0.050002   0.395741   43.395051                       \n",
      "\n"
     ]
    },
    {
     "data": {
      "text/plain": [
       "[array([0.39574]), 43.39505146318406]"
      ]
     },
     "execution_count": 125,
     "metadata": {},
     "output_type": "execute_result"
    }
   ],
   "source": [
    "m.fit(lr, 2, metrics=[exp_rmspe], cycle_len=1)"
   ]
  },
  {
   "cell_type": "code",
   "execution_count": 126,
   "metadata": {},
   "outputs": [
    {
     "data": {
      "application/vnd.jupyter.widget-view+json": {
       "model_id": "1af9887f65f44777b8d51ca22a183a16",
       "version_major": 2,
       "version_minor": 0
      },
      "text/plain": [
       "HBox(children=(IntProgress(value=0, description='Epoch', max=1), HTML(value='')))"
      ]
     },
     "metadata": {},
     "output_type": "display_data"
    },
    {
     "name": "stdout",
     "output_type": "stream",
     "text": [
      "epoch      trn_loss   val_loss   exp_rmspe                       \n",
      "    0      0.076085   0.388582   44.383719 \n",
      "\n"
     ]
    },
    {
     "data": {
      "text/plain": [
       "[array([0.38858]), 44.38371920481355]"
      ]
     },
     "execution_count": 126,
     "metadata": {},
     "output_type": "execute_result"
    }
   ],
   "source": [
    "m.fit(lr, 1, metrics=[exp_rmspe], cycle_len=1)"
   ]
  },
  {
   "cell_type": "code",
   "execution_count": null,
   "metadata": {
    "collapsed": true
   },
   "outputs": [],
   "source": []
  },
  {
   "cell_type": "code",
   "execution_count": null,
   "metadata": {
    "collapsed": true
   },
   "outputs": [],
   "source": []
  }
 ],
 "metadata": {
  "kernelspec": {
   "display_name": "Python 3",
   "language": "python",
   "name": "python3"
  },
  "language_info": {
   "codemirror_mode": {
    "name": "ipython",
    "version": 3
   },
   "file_extension": ".py",
   "mimetype": "text/x-python",
   "name": "python",
   "nbconvert_exporter": "python",
   "pygments_lexer": "ipython3",
   "version": "3.6.5"
  }
 },
 "nbformat": 4,
 "nbformat_minor": 2
}
