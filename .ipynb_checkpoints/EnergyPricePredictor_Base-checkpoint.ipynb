{
 "cells": [
  {
   "cell_type": "markdown",
   "metadata": {},
   "source": [
    "Initialise, set the path and import librarys"
   ]
  },
  {
   "cell_type": "code",
   "execution_count": 1,
   "metadata": {},
   "outputs": [],
   "source": [
    "%matplotlib inline\n",
    "%reload_ext autoreload\n",
    "%autoreload 2"
   ]
  },
  {
   "cell_type": "code",
   "execution_count": 2,
   "metadata": {},
   "outputs": [
    {
     "name": "stdout",
     "output_type": "stream",
     "text": [
      "/home/ubuntu/fastai/courses/data/EnergyPriceDLModel\n"
     ]
    }
   ],
   "source": [
    "import os\n",
    "currPth = os.getcwd()\n",
    "print(currPth)\n",
    "import sys\n",
    "sys.path.append(\"//home/ubuntu/fastai/\") # go to parent dir"
   ]
  },
  {
   "cell_type": "markdown",
   "metadata": {},
   "source": [
    "    (For some reason I have to tell FastAI where the parent dir is)"
   ]
  },
  {
   "cell_type": "markdown",
   "metadata": {},
   "source": [
    "Import everything needed"
   ]
  },
  {
   "cell_type": "code",
   "execution_count": 3,
   "metadata": {},
   "outputs": [],
   "source": [
    "from fastai.imports import *\n",
    "from fastai.torch_imports import *\n",
    "from fastai.dataset import *\n",
    "from fastai.dataset import *\n",
    "from fastai.plots import *\n",
    "\n",
    "from fastai.structured import *\n",
    "from fastai.column_data import *\n",
    "np.set_printoptions(threshold=50, edgeitems=20)\n",
    "\n",
    "from sklearn_pandas import DataFrameMapper\n",
    "from sklearn.preprocessing import LabelEncoder, Imputer, StandardScaler\n",
    "\n",
    "from IPython.display import HTML"
   ]
  },
  {
   "cell_type": "code",
   "execution_count": 4,
   "metadata": {},
   "outputs": [],
   "source": [
    "PATH=\"//home/ubuntu/fastai/courses/data/EnergyPriceDLModel/\""
   ]
  },
  {
   "cell_type": "markdown",
   "metadata": {},
   "source": [
    "Set the Training & Testing data sets, import them from csv, parse the Date Column, have a look at it"
   ]
  },
  {
   "cell_type": "code",
   "execution_count": 5,
   "metadata": {},
   "outputs": [
    {
     "data": {
      "text/html": [
       "<div>\n",
       "<style scoped>\n",
       "    .dataframe tbody tr th:only-of-type {\n",
       "        vertical-align: middle;\n",
       "    }\n",
       "\n",
       "    .dataframe tbody tr th {\n",
       "        vertical-align: top;\n",
       "    }\n",
       "\n",
       "    .dataframe thead th {\n",
       "        text-align: right;\n",
       "    }\n",
       "</style>\n",
       "<table border=\"1\" class=\"dataframe\">\n",
       "  <thead>\n",
       "    <tr style=\"text-align: right;\">\n",
       "      <th></th>\n",
       "      <th>DateTime</th>\n",
       "      <th>Date</th>\n",
       "      <th>Time</th>\n",
       "      <th>Demand</th>\n",
       "      <th>Price</th>\n",
       "      <th>MaxTemp</th>\n",
       "      <th>MinTemp</th>\n",
       "      <th>Rainfall</th>\n",
       "    </tr>\n",
       "  </thead>\n",
       "  <tbody>\n",
       "    <tr>\n",
       "      <th>0</th>\n",
       "      <td>2000-01-01 01:00:00</td>\n",
       "      <td>1/01/2000</td>\n",
       "      <td>1:00</td>\n",
       "      <td>3855.67500</td>\n",
       "      <td>34.18</td>\n",
       "      <td>27.0</td>\n",
       "      <td>21.0</td>\n",
       "      <td>0.01</td>\n",
       "    </tr>\n",
       "    <tr>\n",
       "      <th>1</th>\n",
       "      <td>2000-01-01 01:30:00</td>\n",
       "      <td>1/01/2000</td>\n",
       "      <td>1:30</td>\n",
       "      <td>3814.44667</td>\n",
       "      <td>35.20</td>\n",
       "      <td>27.0</td>\n",
       "      <td>21.0</td>\n",
       "      <td>0.01</td>\n",
       "    </tr>\n",
       "    <tr>\n",
       "      <th>2</th>\n",
       "      <td>2000-01-01 02:00:00</td>\n",
       "      <td>1/01/2000</td>\n",
       "      <td>2:00</td>\n",
       "      <td>3705.36500</td>\n",
       "      <td>25.53</td>\n",
       "      <td>27.0</td>\n",
       "      <td>21.0</td>\n",
       "      <td>0.01</td>\n",
       "    </tr>\n",
       "    <tr>\n",
       "      <th>3</th>\n",
       "      <td>2000-01-01 02:30:00</td>\n",
       "      <td>1/01/2000</td>\n",
       "      <td>2:30</td>\n",
       "      <td>3615.71333</td>\n",
       "      <td>18.55</td>\n",
       "      <td>27.0</td>\n",
       "      <td>21.0</td>\n",
       "      <td>0.01</td>\n",
       "    </tr>\n",
       "    <tr>\n",
       "      <th>4</th>\n",
       "      <td>2000-01-01 03:00:00</td>\n",
       "      <td>1/01/2000</td>\n",
       "      <td>3:00</td>\n",
       "      <td>3517.24333</td>\n",
       "      <td>18.55</td>\n",
       "      <td>27.0</td>\n",
       "      <td>21.0</td>\n",
       "      <td>0.01</td>\n",
       "    </tr>\n",
       "    <tr>\n",
       "      <th>5</th>\n",
       "      <td>2000-01-01 03:30:00</td>\n",
       "      <td>1/01/2000</td>\n",
       "      <td>3:30</td>\n",
       "      <td>3442.65333</td>\n",
       "      <td>17.50</td>\n",
       "      <td>27.0</td>\n",
       "      <td>21.0</td>\n",
       "      <td>0.01</td>\n",
       "    </tr>\n",
       "    <tr>\n",
       "      <th>6</th>\n",
       "      <td>2000-01-01 04:00:00</td>\n",
       "      <td>1/01/2000</td>\n",
       "      <td>4:00</td>\n",
       "      <td>3372.21000</td>\n",
       "      <td>17.50</td>\n",
       "      <td>27.0</td>\n",
       "      <td>21.0</td>\n",
       "      <td>0.01</td>\n",
       "    </tr>\n",
       "    <tr>\n",
       "      <th>7</th>\n",
       "      <td>2000-01-01 04:30:00</td>\n",
       "      <td>1/01/2000</td>\n",
       "      <td>4:30</td>\n",
       "      <td>3331.55000</td>\n",
       "      <td>17.50</td>\n",
       "      <td>27.0</td>\n",
       "      <td>21.0</td>\n",
       "      <td>0.01</td>\n",
       "    </tr>\n",
       "    <tr>\n",
       "      <th>8</th>\n",
       "      <td>2000-01-01 05:00:00</td>\n",
       "      <td>1/01/2000</td>\n",
       "      <td>5:00</td>\n",
       "      <td>3304.24167</td>\n",
       "      <td>17.50</td>\n",
       "      <td>27.0</td>\n",
       "      <td>21.0</td>\n",
       "      <td>0.01</td>\n",
       "    </tr>\n",
       "    <tr>\n",
       "      <th>9</th>\n",
       "      <td>2000-01-01 05:30:00</td>\n",
       "      <td>1/01/2000</td>\n",
       "      <td>5:30</td>\n",
       "      <td>3280.89333</td>\n",
       "      <td>17.50</td>\n",
       "      <td>27.0</td>\n",
       "      <td>21.0</td>\n",
       "      <td>0.01</td>\n",
       "    </tr>\n",
       "    <tr>\n",
       "      <th>10</th>\n",
       "      <td>2000-01-01 06:00:00</td>\n",
       "      <td>1/01/2000</td>\n",
       "      <td>6:00</td>\n",
       "      <td>3278.81167</td>\n",
       "      <td>17.50</td>\n",
       "      <td>27.0</td>\n",
       "      <td>21.0</td>\n",
       "      <td>0.01</td>\n",
       "    </tr>\n",
       "    <tr>\n",
       "      <th>11</th>\n",
       "      <td>2000-01-01 06:30:00</td>\n",
       "      <td>1/01/2000</td>\n",
       "      <td>6:30</td>\n",
       "      <td>3326.77000</td>\n",
       "      <td>17.50</td>\n",
       "      <td>27.0</td>\n",
       "      <td>21.0</td>\n",
       "      <td>0.01</td>\n",
       "    </tr>\n",
       "    <tr>\n",
       "      <th>12</th>\n",
       "      <td>2000-01-01 07:00:00</td>\n",
       "      <td>1/01/2000</td>\n",
       "      <td>7:00</td>\n",
       "      <td>3396.86167</td>\n",
       "      <td>16.81</td>\n",
       "      <td>27.0</td>\n",
       "      <td>21.0</td>\n",
       "      <td>0.01</td>\n",
       "    </tr>\n",
       "    <tr>\n",
       "      <th>13</th>\n",
       "      <td>2000-01-01 07:30:00</td>\n",
       "      <td>1/01/2000</td>\n",
       "      <td>7:30</td>\n",
       "      <td>3513.71000</td>\n",
       "      <td>15.00</td>\n",
       "      <td>27.0</td>\n",
       "      <td>21.0</td>\n",
       "      <td>0.01</td>\n",
       "    </tr>\n",
       "    <tr>\n",
       "      <th>14</th>\n",
       "      <td>2000-01-01 08:00:00</td>\n",
       "      <td>1/01/2000</td>\n",
       "      <td>8:00</td>\n",
       "      <td>3617.73000</td>\n",
       "      <td>16.12</td>\n",
       "      <td>27.0</td>\n",
       "      <td>21.0</td>\n",
       "      <td>0.01</td>\n",
       "    </tr>\n",
       "    <tr>\n",
       "      <th>15</th>\n",
       "      <td>2000-01-01 08:30:00</td>\n",
       "      <td>1/01/2000</td>\n",
       "      <td>8:30</td>\n",
       "      <td>3801.56833</td>\n",
       "      <td>17.46</td>\n",
       "      <td>27.0</td>\n",
       "      <td>21.0</td>\n",
       "      <td>0.01</td>\n",
       "    </tr>\n",
       "    <tr>\n",
       "      <th>16</th>\n",
       "      <td>2000-01-01 09:00:00</td>\n",
       "      <td>1/01/2000</td>\n",
       "      <td>9:00</td>\n",
       "      <td>3917.00500</td>\n",
       "      <td>17.50</td>\n",
       "      <td>27.0</td>\n",
       "      <td>21.0</td>\n",
       "      <td>0.01</td>\n",
       "    </tr>\n",
       "    <tr>\n",
       "      <th>17</th>\n",
       "      <td>2000-01-01 09:30:00</td>\n",
       "      <td>1/01/2000</td>\n",
       "      <td>9:30</td>\n",
       "      <td>3980.70500</td>\n",
       "      <td>17.50</td>\n",
       "      <td>27.0</td>\n",
       "      <td>21.0</td>\n",
       "      <td>0.01</td>\n",
       "    </tr>\n",
       "    <tr>\n",
       "      <th>18</th>\n",
       "      <td>2000-01-01 10:00:00</td>\n",
       "      <td>1/01/2000</td>\n",
       "      <td>10:00</td>\n",
       "      <td>4065.84167</td>\n",
       "      <td>17.50</td>\n",
       "      <td>27.0</td>\n",
       "      <td>21.0</td>\n",
       "      <td>0.01</td>\n",
       "    </tr>\n",
       "    <tr>\n",
       "      <th>19</th>\n",
       "      <td>2000-01-01 10:30:00</td>\n",
       "      <td>1/01/2000</td>\n",
       "      <td>10:30</td>\n",
       "      <td>4117.40000</td>\n",
       "      <td>17.50</td>\n",
       "      <td>27.0</td>\n",
       "      <td>21.0</td>\n",
       "      <td>0.01</td>\n",
       "    </tr>\n",
       "  </tbody>\n",
       "</table>\n",
       "</div>"
      ],
      "text/plain": [
       "              DateTime       Date   Time      Demand  Price  MaxTemp  MinTemp  \\\n",
       "0  2000-01-01 01:00:00  1/01/2000   1:00  3855.67500  34.18     27.0     21.0   \n",
       "1  2000-01-01 01:30:00  1/01/2000   1:30  3814.44667  35.20     27.0     21.0   \n",
       "2  2000-01-01 02:00:00  1/01/2000   2:00  3705.36500  25.53     27.0     21.0   \n",
       "3  2000-01-01 02:30:00  1/01/2000   2:30  3615.71333  18.55     27.0     21.0   \n",
       "4  2000-01-01 03:00:00  1/01/2000   3:00  3517.24333  18.55     27.0     21.0   \n",
       "5  2000-01-01 03:30:00  1/01/2000   3:30  3442.65333  17.50     27.0     21.0   \n",
       "6  2000-01-01 04:00:00  1/01/2000   4:00  3372.21000  17.50     27.0     21.0   \n",
       "7  2000-01-01 04:30:00  1/01/2000   4:30  3331.55000  17.50     27.0     21.0   \n",
       "8  2000-01-01 05:00:00  1/01/2000   5:00  3304.24167  17.50     27.0     21.0   \n",
       "9  2000-01-01 05:30:00  1/01/2000   5:30  3280.89333  17.50     27.0     21.0   \n",
       "10 2000-01-01 06:00:00  1/01/2000   6:00  3278.81167  17.50     27.0     21.0   \n",
       "11 2000-01-01 06:30:00  1/01/2000   6:30  3326.77000  17.50     27.0     21.0   \n",
       "12 2000-01-01 07:00:00  1/01/2000   7:00  3396.86167  16.81     27.0     21.0   \n",
       "13 2000-01-01 07:30:00  1/01/2000   7:30  3513.71000  15.00     27.0     21.0   \n",
       "14 2000-01-01 08:00:00  1/01/2000   8:00  3617.73000  16.12     27.0     21.0   \n",
       "15 2000-01-01 08:30:00  1/01/2000   8:30  3801.56833  17.46     27.0     21.0   \n",
       "16 2000-01-01 09:00:00  1/01/2000   9:00  3917.00500  17.50     27.0     21.0   \n",
       "17 2000-01-01 09:30:00  1/01/2000   9:30  3980.70500  17.50     27.0     21.0   \n",
       "18 2000-01-01 10:00:00  1/01/2000  10:00  4065.84167  17.50     27.0     21.0   \n",
       "19 2000-01-01 10:30:00  1/01/2000  10:30  4117.40000  17.50     27.0     21.0   \n",
       "\n",
       "    Rainfall  \n",
       "0       0.01  \n",
       "1       0.01  \n",
       "2       0.01  \n",
       "3       0.01  \n",
       "4       0.01  \n",
       "5       0.01  \n",
       "6       0.01  \n",
       "7       0.01  \n",
       "8       0.01  \n",
       "9       0.01  \n",
       "10      0.01  \n",
       "11      0.01  \n",
       "12      0.01  \n",
       "13      0.01  \n",
       "14      0.01  \n",
       "15      0.01  \n",
       "16      0.01  \n",
       "17      0.01  \n",
       "18      0.01  \n",
       "19      0.01  "
      ]
     },
     "execution_count": 5,
     "metadata": {},
     "output_type": "execute_result"
    }
   ],
   "source": [
    "data_Train = pd.read_csv(f'{PATH}Train_New.csv', parse_dates=['DateTime'])\n",
    "data_Train.head(20)"
   ]
  },
  {
   "cell_type": "code",
   "execution_count": 6,
   "metadata": {},
   "outputs": [
    {
     "data": {
      "text/html": [
       "<div>\n",
       "<style scoped>\n",
       "    .dataframe tbody tr th:only-of-type {\n",
       "        vertical-align: middle;\n",
       "    }\n",
       "\n",
       "    .dataframe tbody tr th {\n",
       "        vertical-align: top;\n",
       "    }\n",
       "\n",
       "    .dataframe thead th {\n",
       "        text-align: right;\n",
       "    }\n",
       "</style>\n",
       "<table border=\"1\" class=\"dataframe\">\n",
       "  <thead>\n",
       "    <tr style=\"text-align: right;\">\n",
       "      <th></th>\n",
       "      <th>Index</th>\n",
       "      <th>DateTime</th>\n",
       "      <th>Date</th>\n",
       "      <th>Time</th>\n",
       "      <th>Demand</th>\n",
       "      <th>MaxTemp</th>\n",
       "      <th>MinTemp</th>\n",
       "      <th>Rainfall</th>\n",
       "    </tr>\n",
       "  </thead>\n",
       "  <tbody>\n",
       "    <tr>\n",
       "      <th>0</th>\n",
       "      <td>1</td>\n",
       "      <td>2018-01-01 00:30:00</td>\n",
       "      <td>1/01/2018</td>\n",
       "      <td>0:30</td>\n",
       "      <td>6030.84</td>\n",
       "      <td>32.1</td>\n",
       "      <td>24.2</td>\n",
       "      <td>0.4</td>\n",
       "    </tr>\n",
       "    <tr>\n",
       "      <th>1</th>\n",
       "      <td>2</td>\n",
       "      <td>2018-01-01 01:00:00</td>\n",
       "      <td>1/01/2018</td>\n",
       "      <td>1:00</td>\n",
       "      <td>5931.49</td>\n",
       "      <td>32.1</td>\n",
       "      <td>24.2</td>\n",
       "      <td>0.4</td>\n",
       "    </tr>\n",
       "    <tr>\n",
       "      <th>2</th>\n",
       "      <td>3</td>\n",
       "      <td>2018-01-01 01:30:00</td>\n",
       "      <td>1/01/2018</td>\n",
       "      <td>1:30</td>\n",
       "      <td>5875.22</td>\n",
       "      <td>32.1</td>\n",
       "      <td>24.2</td>\n",
       "      <td>0.4</td>\n",
       "    </tr>\n",
       "    <tr>\n",
       "      <th>3</th>\n",
       "      <td>4</td>\n",
       "      <td>2018-01-01 02:00:00</td>\n",
       "      <td>1/01/2018</td>\n",
       "      <td>2:00</td>\n",
       "      <td>5806.38</td>\n",
       "      <td>32.1</td>\n",
       "      <td>24.2</td>\n",
       "      <td>0.4</td>\n",
       "    </tr>\n",
       "    <tr>\n",
       "      <th>4</th>\n",
       "      <td>5</td>\n",
       "      <td>2018-01-01 02:30:00</td>\n",
       "      <td>1/01/2018</td>\n",
       "      <td>2:30</td>\n",
       "      <td>5731.49</td>\n",
       "      <td>32.1</td>\n",
       "      <td>24.2</td>\n",
       "      <td>0.4</td>\n",
       "    </tr>\n",
       "    <tr>\n",
       "      <th>5</th>\n",
       "      <td>6</td>\n",
       "      <td>2018-01-01 03:00:00</td>\n",
       "      <td>1/01/2018</td>\n",
       "      <td>3:00</td>\n",
       "      <td>5688.43</td>\n",
       "      <td>32.1</td>\n",
       "      <td>24.2</td>\n",
       "      <td>0.4</td>\n",
       "    </tr>\n",
       "    <tr>\n",
       "      <th>6</th>\n",
       "      <td>7</td>\n",
       "      <td>2018-01-01 03:30:00</td>\n",
       "      <td>1/01/2018</td>\n",
       "      <td>3:30</td>\n",
       "      <td>5643.23</td>\n",
       "      <td>32.1</td>\n",
       "      <td>24.2</td>\n",
       "      <td>0.4</td>\n",
       "    </tr>\n",
       "    <tr>\n",
       "      <th>7</th>\n",
       "      <td>8</td>\n",
       "      <td>2018-01-01 04:00:00</td>\n",
       "      <td>1/01/2018</td>\n",
       "      <td>4:00</td>\n",
       "      <td>5594.46</td>\n",
       "      <td>32.1</td>\n",
       "      <td>24.2</td>\n",
       "      <td>0.4</td>\n",
       "    </tr>\n",
       "    <tr>\n",
       "      <th>8</th>\n",
       "      <td>9</td>\n",
       "      <td>2018-01-01 04:30:00</td>\n",
       "      <td>1/01/2018</td>\n",
       "      <td>4:30</td>\n",
       "      <td>5587.08</td>\n",
       "      <td>32.1</td>\n",
       "      <td>24.2</td>\n",
       "      <td>0.4</td>\n",
       "    </tr>\n",
       "    <tr>\n",
       "      <th>9</th>\n",
       "      <td>10</td>\n",
       "      <td>2018-01-01 05:00:00</td>\n",
       "      <td>1/01/2018</td>\n",
       "      <td>5:00</td>\n",
       "      <td>5557.70</td>\n",
       "      <td>32.1</td>\n",
       "      <td>24.2</td>\n",
       "      <td>0.4</td>\n",
       "    </tr>\n",
       "    <tr>\n",
       "      <th>10</th>\n",
       "      <td>11</td>\n",
       "      <td>2018-01-01 05:30:00</td>\n",
       "      <td>1/01/2018</td>\n",
       "      <td>5:30</td>\n",
       "      <td>5594.70</td>\n",
       "      <td>32.1</td>\n",
       "      <td>24.2</td>\n",
       "      <td>0.4</td>\n",
       "    </tr>\n",
       "    <tr>\n",
       "      <th>11</th>\n",
       "      <td>12</td>\n",
       "      <td>2018-01-01 06:00:00</td>\n",
       "      <td>1/01/2018</td>\n",
       "      <td>6:00</td>\n",
       "      <td>5583.75</td>\n",
       "      <td>32.1</td>\n",
       "      <td>24.2</td>\n",
       "      <td>0.4</td>\n",
       "    </tr>\n",
       "    <tr>\n",
       "      <th>12</th>\n",
       "      <td>13</td>\n",
       "      <td>2018-01-01 06:30:00</td>\n",
       "      <td>1/01/2018</td>\n",
       "      <td>6:30</td>\n",
       "      <td>5690.27</td>\n",
       "      <td>32.1</td>\n",
       "      <td>24.2</td>\n",
       "      <td>0.4</td>\n",
       "    </tr>\n",
       "    <tr>\n",
       "      <th>13</th>\n",
       "      <td>14</td>\n",
       "      <td>2018-01-01 07:00:00</td>\n",
       "      <td>1/01/2018</td>\n",
       "      <td>7:00</td>\n",
       "      <td>5717.62</td>\n",
       "      <td>32.1</td>\n",
       "      <td>24.2</td>\n",
       "      <td>0.4</td>\n",
       "    </tr>\n",
       "    <tr>\n",
       "      <th>14</th>\n",
       "      <td>15</td>\n",
       "      <td>2018-01-01 07:30:00</td>\n",
       "      <td>1/01/2018</td>\n",
       "      <td>7:30</td>\n",
       "      <td>5895.55</td>\n",
       "      <td>32.1</td>\n",
       "      <td>24.2</td>\n",
       "      <td>0.4</td>\n",
       "    </tr>\n",
       "    <tr>\n",
       "      <th>15</th>\n",
       "      <td>16</td>\n",
       "      <td>2018-01-01 08:00:00</td>\n",
       "      <td>1/01/2018</td>\n",
       "      <td>8:00</td>\n",
       "      <td>5959.12</td>\n",
       "      <td>32.1</td>\n",
       "      <td>24.2</td>\n",
       "      <td>0.4</td>\n",
       "    </tr>\n",
       "    <tr>\n",
       "      <th>16</th>\n",
       "      <td>17</td>\n",
       "      <td>2018-01-01 08:30:00</td>\n",
       "      <td>1/01/2018</td>\n",
       "      <td>8:30</td>\n",
       "      <td>6144.88</td>\n",
       "      <td>32.1</td>\n",
       "      <td>24.2</td>\n",
       "      <td>0.4</td>\n",
       "    </tr>\n",
       "    <tr>\n",
       "      <th>17</th>\n",
       "      <td>18</td>\n",
       "      <td>2018-01-01 09:00:00</td>\n",
       "      <td>1/01/2018</td>\n",
       "      <td>9:00</td>\n",
       "      <td>6268.90</td>\n",
       "      <td>32.1</td>\n",
       "      <td>24.2</td>\n",
       "      <td>0.4</td>\n",
       "    </tr>\n",
       "    <tr>\n",
       "      <th>18</th>\n",
       "      <td>19</td>\n",
       "      <td>2018-01-01 09:30:00</td>\n",
       "      <td>1/01/2018</td>\n",
       "      <td>9:30</td>\n",
       "      <td>6497.18</td>\n",
       "      <td>32.1</td>\n",
       "      <td>24.2</td>\n",
       "      <td>0.4</td>\n",
       "    </tr>\n",
       "    <tr>\n",
       "      <th>19</th>\n",
       "      <td>20</td>\n",
       "      <td>2018-01-01 10:00:00</td>\n",
       "      <td>1/01/2018</td>\n",
       "      <td>10:00</td>\n",
       "      <td>6603.94</td>\n",
       "      <td>32.1</td>\n",
       "      <td>24.2</td>\n",
       "      <td>0.4</td>\n",
       "    </tr>\n",
       "  </tbody>\n",
       "</table>\n",
       "</div>"
      ],
      "text/plain": [
       "    Index            DateTime       Date   Time   Demand  MaxTemp  MinTemp  \\\n",
       "0       1 2018-01-01 00:30:00  1/01/2018   0:30  6030.84     32.1     24.2   \n",
       "1       2 2018-01-01 01:00:00  1/01/2018   1:00  5931.49     32.1     24.2   \n",
       "2       3 2018-01-01 01:30:00  1/01/2018   1:30  5875.22     32.1     24.2   \n",
       "3       4 2018-01-01 02:00:00  1/01/2018   2:00  5806.38     32.1     24.2   \n",
       "4       5 2018-01-01 02:30:00  1/01/2018   2:30  5731.49     32.1     24.2   \n",
       "5       6 2018-01-01 03:00:00  1/01/2018   3:00  5688.43     32.1     24.2   \n",
       "6       7 2018-01-01 03:30:00  1/01/2018   3:30  5643.23     32.1     24.2   \n",
       "7       8 2018-01-01 04:00:00  1/01/2018   4:00  5594.46     32.1     24.2   \n",
       "8       9 2018-01-01 04:30:00  1/01/2018   4:30  5587.08     32.1     24.2   \n",
       "9      10 2018-01-01 05:00:00  1/01/2018   5:00  5557.70     32.1     24.2   \n",
       "10     11 2018-01-01 05:30:00  1/01/2018   5:30  5594.70     32.1     24.2   \n",
       "11     12 2018-01-01 06:00:00  1/01/2018   6:00  5583.75     32.1     24.2   \n",
       "12     13 2018-01-01 06:30:00  1/01/2018   6:30  5690.27     32.1     24.2   \n",
       "13     14 2018-01-01 07:00:00  1/01/2018   7:00  5717.62     32.1     24.2   \n",
       "14     15 2018-01-01 07:30:00  1/01/2018   7:30  5895.55     32.1     24.2   \n",
       "15     16 2018-01-01 08:00:00  1/01/2018   8:00  5959.12     32.1     24.2   \n",
       "16     17 2018-01-01 08:30:00  1/01/2018   8:30  6144.88     32.1     24.2   \n",
       "17     18 2018-01-01 09:00:00  1/01/2018   9:00  6268.90     32.1     24.2   \n",
       "18     19 2018-01-01 09:30:00  1/01/2018   9:30  6497.18     32.1     24.2   \n",
       "19     20 2018-01-01 10:00:00  1/01/2018  10:00  6603.94     32.1     24.2   \n",
       "\n",
       "    Rainfall  \n",
       "0        0.4  \n",
       "1        0.4  \n",
       "2        0.4  \n",
       "3        0.4  \n",
       "4        0.4  \n",
       "5        0.4  \n",
       "6        0.4  \n",
       "7        0.4  \n",
       "8        0.4  \n",
       "9        0.4  \n",
       "10       0.4  \n",
       "11       0.4  \n",
       "12       0.4  \n",
       "13       0.4  \n",
       "14       0.4  \n",
       "15       0.4  \n",
       "16       0.4  \n",
       "17       0.4  \n",
       "18       0.4  \n",
       "19       0.4  "
      ]
     },
     "execution_count": 6,
     "metadata": {},
     "output_type": "execute_result"
    }
   ],
   "source": [
    "data_Test = pd.read_csv(f'{PATH}Test_New.csv', parse_dates=['DateTime'])\n",
    "data_Test.head(20)"
   ]
  },
  {
   "cell_type": "markdown",
   "metadata": {},
   "source": [
    "Check lengths of data set"
   ]
  },
  {
   "cell_type": "code",
   "execution_count": 7,
   "metadata": {},
   "outputs": [
    {
     "data": {
      "text/plain": [
       "315590"
      ]
     },
     "execution_count": 7,
     "metadata": {},
     "output_type": "execute_result"
    }
   ],
   "source": [
    "len(data_Train)"
   ]
  },
  {
   "cell_type": "code",
   "execution_count": 8,
   "metadata": {},
   "outputs": [
    {
     "data": {
      "text/plain": [
       "7245"
      ]
     },
     "execution_count": 8,
     "metadata": {},
     "output_type": "execute_result"
    }
   ],
   "source": [
    "len(data_Test)"
   ]
  },
  {
   "cell_type": "markdown",
   "metadata": {},
   "source": [
    "Add Extra Date information"
   ]
  },
  {
   "cell_type": "code",
   "execution_count": 11,
   "metadata": {},
   "outputs": [],
   "source": [
    "add_datepart(data_Train, \"DateTime\", drop=False)"
   ]
  },
  {
   "cell_type": "code",
   "execution_count": 12,
   "metadata": {},
   "outputs": [],
   "source": [
    "add_datepart(data_Test, \"DateTime\", drop=False)"
   ]
  },
  {
   "cell_type": "markdown",
   "metadata": {
    "collapsed": true
   },
   "source": [
    "Adjust Columns, discard unnecessary data"
   ]
  },
  {
   "cell_type": "code",
   "execution_count": 9,
   "metadata": {},
   "outputs": [
    {
     "data": {
      "text/plain": [
       "Index(['DateTime', 'Date', 'Time', 'Demand', 'Price', 'MaxTemp', 'MinTemp',\n",
       "       'Rainfall'],\n",
       "      dtype='object')"
      ]
     },
     "execution_count": 9,
     "metadata": {},
     "output_type": "execute_result"
    }
   ],
   "source": [
    "data_Train.columns"
   ]
  },
  {
   "cell_type": "code",
   "execution_count": 10,
   "metadata": {},
   "outputs": [
    {
     "data": {
      "text/plain": [
       "Index(['Index', 'DateTime', 'Date', 'Time', 'Demand', 'MaxTemp', 'MinTemp',\n",
       "       'Rainfall'],\n",
       "      dtype='object')"
      ]
     },
     "execution_count": 10,
     "metadata": {},
     "output_type": "execute_result"
    }
   ],
   "source": [
    "data_Test.columns"
   ]
  },
  {
   "cell_type": "code",
   "execution_count": 11,
   "metadata": {},
   "outputs": [],
   "source": [
    "columns = ['MaxTemp', 'MinTemp', 'Rainfall']"
   ]
  },
  {
   "cell_type": "code",
   "execution_count": 12,
   "metadata": {},
   "outputs": [],
   "source": [
    "data_Train.drop(columns,1,inplace=True)"
   ]
  },
  {
   "cell_type": "code",
   "execution_count": 13,
   "metadata": {},
   "outputs": [],
   "source": [
    "data_Test.drop(columns,1,inplace=True)"
   ]
  },
  {
   "cell_type": "code",
   "execution_count": 14,
   "metadata": {},
   "outputs": [
    {
     "data": {
      "text/plain": [
       "Index(['DateTime', 'Date', 'Time', 'Demand', 'Price'], dtype='object')"
      ]
     },
     "execution_count": 14,
     "metadata": {},
     "output_type": "execute_result"
    }
   ],
   "source": [
    "data_Train.columns"
   ]
  },
  {
   "cell_type": "code",
   "execution_count": 15,
   "metadata": {},
   "outputs": [
    {
     "data": {
      "text/plain": [
       "Index(['Index', 'DateTime', 'Date', 'Time', 'Demand'], dtype='object')"
      ]
     },
     "execution_count": 15,
     "metadata": {},
     "output_type": "execute_result"
    }
   ],
   "source": [
    "data_Test.columns"
   ]
  },
  {
   "cell_type": "markdown",
   "metadata": {},
   "source": [
    "Backup to feather"
   ]
  },
  {
   "cell_type": "code",
   "execution_count": 16,
   "metadata": {},
   "outputs": [],
   "source": [
    "data_Train.reset_index(inplace=True)\n",
    "data_Test.reset_index(inplace=True)"
   ]
  },
  {
   "cell_type": "code",
   "execution_count": 17,
   "metadata": {},
   "outputs": [],
   "source": [
    "data_Train.to_feather(f'{PATH}df')\n",
    "data_Test.to_feather(f'{PATH}df_test')"
   ]
  },
  {
   "cell_type": "markdown",
   "metadata": {},
   "source": [
    "Load the data from Feather"
   ]
  },
  {
   "cell_type": "code",
   "execution_count": 18,
   "metadata": {},
   "outputs": [],
   "source": [
    "data_Train = pd.read_feather(f'{PATH}df')"
   ]
  },
  {
   "cell_type": "code",
   "execution_count": 19,
   "metadata": {},
   "outputs": [],
   "source": [
    "data_Test= pd.read_feather(f'{PATH}df_test')"
   ]
  },
  {
   "cell_type": "markdown",
   "metadata": {},
   "source": [
    "Convert DateTime to datetime for both datasets"
   ]
  },
  {
   "cell_type": "code",
   "execution_count": 20,
   "metadata": {},
   "outputs": [],
   "source": [
    "data_Train[\"DateTime\"] = pd.to_datetime(data_Train.DateTime)"
   ]
  },
  {
   "cell_type": "code",
   "execution_count": 21,
   "metadata": {},
   "outputs": [],
   "source": [
    "data_Test[\"DateTime\"] = pd.to_datetime(data_Test.DateTime)"
   ]
  },
  {
   "cell_type": "markdown",
   "metadata": {},
   "source": [
    "Check data"
   ]
  },
  {
   "cell_type": "code",
   "execution_count": 22,
   "metadata": {},
   "outputs": [
    {
     "data": {
      "text/plain": [
       "Index(['index', 'DateTime', 'Date', 'Time', 'Demand', 'Price'], dtype='object')"
      ]
     },
     "execution_count": 22,
     "metadata": {},
     "output_type": "execute_result"
    }
   ],
   "source": [
    "data_Train.columns"
   ]
  },
  {
   "cell_type": "code",
   "execution_count": 23,
   "metadata": {},
   "outputs": [
    {
     "data": {
      "text/html": [
       "<div>\n",
       "<style scoped>\n",
       "    .dataframe tbody tr th:only-of-type {\n",
       "        vertical-align: middle;\n",
       "    }\n",
       "\n",
       "    .dataframe tbody tr th {\n",
       "        vertical-align: top;\n",
       "    }\n",
       "\n",
       "    .dataframe thead th {\n",
       "        text-align: right;\n",
       "    }\n",
       "</style>\n",
       "<table border=\"1\" class=\"dataframe\">\n",
       "  <thead>\n",
       "    <tr style=\"text-align: right;\">\n",
       "      <th></th>\n",
       "      <th>0</th>\n",
       "      <th>1</th>\n",
       "      <th>2</th>\n",
       "      <th>3</th>\n",
       "      <th>4</th>\n",
       "    </tr>\n",
       "  </thead>\n",
       "  <tbody>\n",
       "    <tr>\n",
       "      <th>index</th>\n",
       "      <td>0</td>\n",
       "      <td>1</td>\n",
       "      <td>2</td>\n",
       "      <td>3</td>\n",
       "      <td>4</td>\n",
       "    </tr>\n",
       "    <tr>\n",
       "      <th>DateTime</th>\n",
       "      <td>2000-01-01 01:00:00</td>\n",
       "      <td>2000-01-01 01:30:00</td>\n",
       "      <td>2000-01-01 02:00:00</td>\n",
       "      <td>2000-01-01 02:30:00</td>\n",
       "      <td>2000-01-01 03:00:00</td>\n",
       "    </tr>\n",
       "    <tr>\n",
       "      <th>Date</th>\n",
       "      <td>1/01/2000</td>\n",
       "      <td>1/01/2000</td>\n",
       "      <td>1/01/2000</td>\n",
       "      <td>1/01/2000</td>\n",
       "      <td>1/01/2000</td>\n",
       "    </tr>\n",
       "    <tr>\n",
       "      <th>Time</th>\n",
       "      <td>1:00</td>\n",
       "      <td>1:30</td>\n",
       "      <td>2:00</td>\n",
       "      <td>2:30</td>\n",
       "      <td>3:00</td>\n",
       "    </tr>\n",
       "    <tr>\n",
       "      <th>Demand</th>\n",
       "      <td>3855.68</td>\n",
       "      <td>3814.45</td>\n",
       "      <td>3705.36</td>\n",
       "      <td>3615.71</td>\n",
       "      <td>3517.24</td>\n",
       "    </tr>\n",
       "    <tr>\n",
       "      <th>Price</th>\n",
       "      <td>34.18</td>\n",
       "      <td>35.2</td>\n",
       "      <td>25.53</td>\n",
       "      <td>18.55</td>\n",
       "      <td>18.55</td>\n",
       "    </tr>\n",
       "  </tbody>\n",
       "</table>\n",
       "</div>"
      ],
      "text/plain": [
       "                            0                    1                    2  \\\n",
       "index                       0                    1                    2   \n",
       "DateTime  2000-01-01 01:00:00  2000-01-01 01:30:00  2000-01-01 02:00:00   \n",
       "Date                1/01/2000            1/01/2000            1/01/2000   \n",
       "Time                     1:00                 1:30                 2:00   \n",
       "Demand                3855.68              3814.45              3705.36   \n",
       "Price                   34.18                 35.2                25.53   \n",
       "\n",
       "                            3                    4  \n",
       "index                       3                    4  \n",
       "DateTime  2000-01-01 02:30:00  2000-01-01 03:00:00  \n",
       "Date                1/01/2000            1/01/2000  \n",
       "Time                     2:30                 3:00  \n",
       "Demand                3615.71              3517.24  \n",
       "Price                   18.55                18.55  "
      ]
     },
     "execution_count": 23,
     "metadata": {},
     "output_type": "execute_result"
    }
   ],
   "source": [
    "data_Train.head().T.head(12)"
   ]
  },
  {
   "cell_type": "markdown",
   "metadata": {},
   "source": [
    "Set Category and Continuous Variables"
   ]
  },
  {
   "cell_type": "code",
   "execution_count": 24,
   "metadata": {},
   "outputs": [
    {
     "data": {
      "text/plain": [
       "315590"
      ]
     },
     "execution_count": 24,
     "metadata": {},
     "output_type": "execute_result"
    }
   ],
   "source": [
    "cat_vars = ['Date', 'Time']\n",
    "contin_vars = ['Demand']\n",
    "n = len(data_Train); n"
   ]
  },
  {
   "cell_type": "code",
   "execution_count": 25,
   "metadata": {},
   "outputs": [],
   "source": [
    "dep = 'Price'\n",
    "data_Train = data_Train[cat_vars+contin_vars+[dep, 'DateTime']].copy()"
   ]
  },
  {
   "cell_type": "code",
   "execution_count": 26,
   "metadata": {},
   "outputs": [],
   "source": [
    "data_Test[dep] = 0\n",
    "data_Test = data_Test[cat_vars+contin_vars+[dep, 'DateTime', 'Index']].copy()"
   ]
  },
  {
   "cell_type": "code",
   "execution_count": 27,
   "metadata": {},
   "outputs": [],
   "source": [
    "for v in cat_vars: data_Train[v] = data_Train[v].astype('category').cat.as_ordered()"
   ]
  },
  {
   "cell_type": "code",
   "execution_count": 28,
   "metadata": {},
   "outputs": [
    {
     "data": {
      "text/plain": [
       "Index(['Date', 'Time', 'Demand', 'Price', 'DateTime', 'Index'], dtype='object')"
      ]
     },
     "execution_count": 28,
     "metadata": {},
     "output_type": "execute_result"
    }
   ],
   "source": [
    "data_Test.columns"
   ]
  },
  {
   "cell_type": "code",
   "execution_count": 29,
   "metadata": {},
   "outputs": [
    {
     "data": {
      "text/plain": [
       "Index(['Date', 'Time', 'Demand', 'Price', 'DateTime'], dtype='object')"
      ]
     },
     "execution_count": 29,
     "metadata": {},
     "output_type": "execute_result"
    }
   ],
   "source": [
    "data_Train.columns"
   ]
  },
  {
   "cell_type": "code",
   "execution_count": 30,
   "metadata": {},
   "outputs": [],
   "source": [
    "apply_cats(data_Test, data_Train)"
   ]
  },
  {
   "cell_type": "markdown",
   "metadata": {},
   "source": [
    "Set Continuous Variables to Float32"
   ]
  },
  {
   "cell_type": "code",
   "execution_count": 31,
   "metadata": {},
   "outputs": [],
   "source": [
    "for v in contin_vars:\n",
    "    data_Train[v] = data_Train[v].astype('float32')\n",
    "    data_Test[v] = data_Test[v].astype('float32')"
   ]
  },
  {
   "cell_type": "markdown",
   "metadata": {},
   "source": [
    "Set DateTime as index for both"
   ]
  },
  {
   "cell_type": "code",
   "execution_count": 32,
   "metadata": {},
   "outputs": [],
   "source": [
    "data_Train = data_Train.set_index(\"DateTime\")"
   ]
  },
  {
   "cell_type": "code",
   "execution_count": 33,
   "metadata": {},
   "outputs": [],
   "source": [
    "data_Test = data_Test.set_index(\"DateTime\")"
   ]
  },
  {
   "cell_type": "markdown",
   "metadata": {},
   "source": [
    "Split off response variable (Price) and convert dataframe to entirely numeric data"
   ]
  },
  {
   "cell_type": "code",
   "execution_count": 34,
   "metadata": {},
   "outputs": [],
   "source": [
    "df, y, nas, mapper = proc_df(data_Train, 'Price', do_scale=True)\n",
    "yl = np.log(y)"
   ]
  },
  {
   "cell_type": "code",
   "execution_count": 35,
   "metadata": {},
   "outputs": [],
   "source": [
    "df_test, _, nas, mapper = proc_df(data_Test, 'Price', do_scale=True, mapper=mapper, na_dict=nas, skip_flds=['Index'])"
   ]
  },
  {
   "cell_type": "markdown",
   "metadata": {},
   "source": [
    "Set validation set to last 25% of Training set"
   ]
  },
  {
   "cell_type": "code",
   "execution_count": 36,
   "metadata": {},
   "outputs": [],
   "source": [
    "samp_size = len(df)"
   ]
  },
  {
   "cell_type": "code",
   "execution_count": 37,
   "metadata": {},
   "outputs": [],
   "source": [
    "train_ratio = 0.65\n",
    "#train_ratio = 0.75\n",
    "# train_ratio = 0.9\n",
    "train_size = int(samp_size * train_ratio); train_size\n",
    "val_idx = list(range(train_size, len(df)))"
   ]
  },
  {
   "cell_type": "markdown",
   "metadata": {},
   "source": [
    "Define Root-mean-squared percent error to use as metric"
   ]
  },
  {
   "cell_type": "code",
   "execution_count": 38,
   "metadata": {},
   "outputs": [],
   "source": [
    "def inv_y(a): return np.exp(a)\n",
    "\n",
    "def exp_rmspe(y_pred, targ):\n",
    "    targ = inv_y(targ)\n",
    "    pct_var = (targ - inv_y(y_pred))/targ\n",
    "    return math.sqrt((pct_var**2).mean())\n",
    "\n",
    "max_log_y = np.max(yl)\n",
    "y_range = (0, max_log_y*1.2)"
   ]
  },
  {
   "cell_type": "markdown",
   "metadata": {},
   "source": [
    "Create ModelData from DataFrame"
   ]
  },
  {
   "cell_type": "code",
   "execution_count": 39,
   "metadata": {},
   "outputs": [],
   "source": [
    "md = ColumnarModelData.from_data_frame(PATH, val_idx, df, yl.astype(np.float32), cat_flds=cat_vars, bs=128,\n",
    "                                      test_df=df_test)"
   ]
  },
  {
   "cell_type": "markdown",
   "metadata": {},
   "source": [
    "Use the cardinal for each Categorical variable for embeddings"
   ]
  },
  {
   "cell_type": "code",
   "execution_count": 40,
   "metadata": {},
   "outputs": [],
   "source": [
    "cat_sz = [(c, len(data_Train[c].cat.categories)+1) for c in cat_vars]"
   ]
  },
  {
   "cell_type": "code",
   "execution_count": 41,
   "metadata": {},
   "outputs": [
    {
     "data": {
      "text/plain": [
       "[('Date', 6576), ('Time', 49)]"
      ]
     },
     "execution_count": 41,
     "metadata": {},
     "output_type": "execute_result"
    }
   ],
   "source": [
    "cat_sz"
   ]
  },
  {
   "cell_type": "code",
   "execution_count": 42,
   "metadata": {},
   "outputs": [],
   "source": [
    "emb_szs = [(c, min(50, (c+1)//2)) for _,c in cat_sz]"
   ]
  },
  {
   "cell_type": "code",
   "execution_count": 43,
   "metadata": {},
   "outputs": [
    {
     "data": {
      "text/plain": [
       "[(6576, 50), (49, 25)]"
      ]
     },
     "execution_count": 43,
     "metadata": {},
     "output_type": "execute_result"
    }
   ],
   "source": [
    "emb_szs"
   ]
  },
  {
   "cell_type": "markdown",
   "metadata": {},
   "source": [
    "Find a Learning Rate"
   ]
  },
  {
   "cell_type": "code",
   "execution_count": 44,
   "metadata": {},
   "outputs": [],
   "source": [
    "m = md.get_learner(emb_szs, len(df.columns)-len(cat_vars),0.04, 1, [1000,500], [0.001,0.01],y_range=y_range)\n",
    "lr = 1e-4"
   ]
  },
  {
   "cell_type": "code",
   "execution_count": 45,
   "metadata": {},
   "outputs": [
    {
     "data": {
      "application/vnd.jupyter.widget-view+json": {
       "model_id": "a0cd6dd506f34ee1a7c6393ab523d6f4",
       "version_major": 2,
       "version_minor": 0
      },
      "text/plain": [
       "HBox(children=(IntProgress(value=0, description='Epoch', max=1), HTML(value='')))"
      ]
     },
     "metadata": {},
     "output_type": "display_data"
    },
    {
     "name": "stdout",
     "output_type": "stream",
     "text": [
      " 76%|███████▌  | 1221/1603 [00:08<00:02, 144.44it/s, loss=0.856]\n",
      "                                                                \r"
     ]
    }
   ],
   "source": [
    "m.lr_find()"
   ]
  },
  {
   "cell_type": "code",
   "execution_count": 46,
   "metadata": {},
   "outputs": [
    {
     "data": {
      "image/png": "[encoded data removed]",
      "text/plain": [
       "<Figure size 432x288 with 1 Axes>"
      ]
     },
     "metadata": {},
     "output_type": "display_data"
    }
   ],
   "source": [
    "m.sched.plot(100)"
   ]
  },
  {
   "cell_type": "markdown",
   "metadata": {},
   "source": [
    "Do some initial learning"
   ]
  },
  {
   "cell_type": "code",
   "execution_count": 49,
   "metadata": {},
   "outputs": [],
   "source": [
    "m = md.get_learner(emb_szs, len(df.columns)-len(cat_vars),\n",
    "                   0.04, 1, [1000,500], [0.001,0.01], y_range=y_range)\n",
    "lr = 0.0001"
   ]
  },
  {
   "cell_type": "code",
   "execution_count": 50,
   "metadata": {},
   "outputs": [
    {
     "data": {
      "application/vnd.jupyter.widget-view+json": {
       "model_id": "49fcd993cd6a40e4a239f1dfa4b2f065",
       "version_major": 2,
       "version_minor": 0
      },
      "text/plain": [
       "HBox(children=(IntProgress(value=0, description='Epoch', max=3), HTML(value='')))"
      ]
     },
     "metadata": {},
     "output_type": "display_data"
    },
    {
     "name": "stdout",
     "output_type": "stream",
     "text": [
      "epoch      trn_loss   val_loss   exp_rmspe                      \n",
      "    0      0.204222   0.554988   129.731733\n",
      "    1      0.110315   0.544146   166.6942                        \n",
      "    2      0.116337   0.52671    180.662561                      \n",
      "\n"
     ]
    },
    {
     "data": {
      "text/plain": [
       "[array([0.52671]), 180.66256135418294]"
      ]
     },
     "execution_count": 50,
     "metadata": {},
     "output_type": "execute_result"
    }
   ],
   "source": [
    "m.fit(lr, 3, metrics=[exp_rmspe], cycle_len=1)"
   ]
  },
  {
   "cell_type": "code",
   "execution_count": null,
   "metadata": {},
   "outputs": [],
   "source": []
  }
 ],
 "metadata": {
  "kernelspec": {
   "display_name": "Python 3",
   "language": "python",
   "name": "python3"
  },
  "language_info": {
   "codemirror_mode": {
    "name": "ipython",
    "version": 3
   },
   "file_extension": ".py",
   "mimetype": "text/x-python",
   "name": "python",
   "nbconvert_exporter": "python",
   "pygments_lexer": "ipython3",
   "version": "3.6.5"
  }
 },
 "nbformat": 4,
 "nbformat_minor": 2
}
